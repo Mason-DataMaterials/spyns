{
 "cells": [
  {
   "cell_type": "markdown",
   "metadata": {},
   "source": [
    "### Notebook for generating the MnAu2 cell structure inputs for the QE calculations"
   ]
  },
  {
   "cell_type": "markdown",
   "metadata": {},
   "source": [
    "Following the steps in the bcc-fe-exchange-model notebook, read in an initial .cif file (6-atoms) and \n",
    "combine with magnetic patterns. Translates in the x,y direction to increase the number of Mn atoms to allow \n",
    "for more magnetic patterns. Configuration files saved to working folder.\n",
    "\n",
    "- 6 atom configuration allows for NM, FM and AFM-A. "
   ]
  },
  {
   "cell_type": "code",
   "execution_count": 2,
   "metadata": {
    "collapsed": true
   },
   "outputs": [],
   "source": [
    "from pathlib import Path\n",
    "from sys import stdout\n",
    "import numpy as np\n",
    "import pandas as pd\n",
    "from pymatgen import units\n",
    "from pymatgen.transformations.standard_transformations import SupercellTransformation\n",
    "import sympy\n",
    "from scipy.constants import Boltzmann, electron_volt\n",
    "from sympy import symbols\n",
    "from sympy.vector import CoordSys3D\n",
    "\n",
    "from ruamel.yaml import YAML\n",
    "yaml = YAML()\n",
    "\n",
    "from neighbormodels.structure import from_file\n",
    "from neighbormodels.neighbors import count_neighbors\n",
    "from neighbormodels.interactions import build_model"
   ]
  },
  {
   "cell_type": "code",
   "execution_count": 11,
   "metadata": {},
   "outputs": [
    {
     "name": "stdout",
     "output_type": "stream",
     "text": [
      "Full Formula (Mn2 Au4)\n",
      "Reduced Formula: MnAu2\n",
      "abc   :   3.394839   3.394839   8.880636\n",
      "angles:  90.000000  90.000000  90.000000\n",
      "Sites (6)\n",
      "  #  SP      a    b         c\n",
      "---  ----  ---  ---  --------\n",
      "  0  Mn    0    0    0\n",
      "  1  Au    0.5  0.5  0.840319\n",
      "  2  Au    0.5  0.5  0.159681\n",
      "  3  Mn    0.5  0.5  0.5\n",
      "  4  Au    0    0    0.340319\n",
      "  5  Au    0    0    0.659681\n"
     ]
    }
   ],
   "source": [
    "cif_filepath = \"mnau2-6.cif\"\n",
    "structure_mnau2 = from_file(structure_file=cif_filepath)\n",
    "print(structure_mnau2)"
   ]
  },
  {
   "cell_type": "code",
   "execution_count": 5,
   "metadata": {},
   "outputs": [
    {
     "data": {
      "text/html": [
       "<style  type=\"text/css\" >\n",
       "    #T_5ecb5218_2f01_11e9_b093_99d1dc8002ec  {\n",
       "    }    #T_5ecb5218_2f01_11e9_b093_99d1dc8002ec  {\n",
       "    }</style>  \n",
       "<table id=\"T_5ecb5218_2f01_11e9_b093_99d1dc8002ec\" > \n",
       "<thead>    <tr> \n",
       "        <th class=\"col_heading level0 col0\" >nm</th> \n",
       "        <th class=\"col_heading level0 col1\" >f-type</th> \n",
       "        <th class=\"col_heading level0 col2\" >a-type</th> \n",
       "    </tr></thead> \n",
       "<tbody>    <tr> \n",
       "        <td id=\"T_5ecb5218_2f01_11e9_b093_99d1dc8002ecrow0_col0\" class=\"data row0 col0\" >0</td> \n",
       "        <td id=\"T_5ecb5218_2f01_11e9_b093_99d1dc8002ecrow0_col1\" class=\"data row0 col1\" >1</td> \n",
       "        <td id=\"T_5ecb5218_2f01_11e9_b093_99d1dc8002ecrow0_col2\" class=\"data row0 col2\" >-1</td> \n",
       "    </tr>    <tr> \n",
       "        <td id=\"T_5ecb5218_2f01_11e9_b093_99d1dc8002ecrow1_col0\" class=\"data row1 col0\" >0</td> \n",
       "        <td id=\"T_5ecb5218_2f01_11e9_b093_99d1dc8002ecrow1_col1\" class=\"data row1 col1\" >0</td> \n",
       "        <td id=\"T_5ecb5218_2f01_11e9_b093_99d1dc8002ecrow1_col2\" class=\"data row1 col2\" >0</td> \n",
       "    </tr>    <tr> \n",
       "        <td id=\"T_5ecb5218_2f01_11e9_b093_99d1dc8002ecrow2_col0\" class=\"data row2 col0\" >0</td> \n",
       "        <td id=\"T_5ecb5218_2f01_11e9_b093_99d1dc8002ecrow2_col1\" class=\"data row2 col1\" >0</td> \n",
       "        <td id=\"T_5ecb5218_2f01_11e9_b093_99d1dc8002ecrow2_col2\" class=\"data row2 col2\" >0</td> \n",
       "    </tr>    <tr> \n",
       "        <td id=\"T_5ecb5218_2f01_11e9_b093_99d1dc8002ecrow3_col0\" class=\"data row3 col0\" >0</td> \n",
       "        <td id=\"T_5ecb5218_2f01_11e9_b093_99d1dc8002ecrow3_col1\" class=\"data row3 col1\" >1</td> \n",
       "        <td id=\"T_5ecb5218_2f01_11e9_b093_99d1dc8002ecrow3_col2\" class=\"data row3 col2\" >1</td> \n",
       "    </tr>    <tr> \n",
       "        <td id=\"T_5ecb5218_2f01_11e9_b093_99d1dc8002ecrow4_col0\" class=\"data row4 col0\" >0</td> \n",
       "        <td id=\"T_5ecb5218_2f01_11e9_b093_99d1dc8002ecrow4_col1\" class=\"data row4 col1\" >0</td> \n",
       "        <td id=\"T_5ecb5218_2f01_11e9_b093_99d1dc8002ecrow4_col2\" class=\"data row4 col2\" >0</td> \n",
       "    </tr>    <tr> \n",
       "        <td id=\"T_5ecb5218_2f01_11e9_b093_99d1dc8002ecrow5_col0\" class=\"data row5 col0\" >0</td> \n",
       "        <td id=\"T_5ecb5218_2f01_11e9_b093_99d1dc8002ecrow5_col1\" class=\"data row5 col1\" >0</td> \n",
       "        <td id=\"T_5ecb5218_2f01_11e9_b093_99d1dc8002ecrow5_col2\" class=\"data row5 col2\" >0</td> \n",
       "    </tr></tbody> \n",
       "</table> "
      ],
      "text/plain": [
       "<pandas.io.formats.style.Styler at 0x7fa67912e1d0>"
      ]
     },
     "execution_count": 5,
     "metadata": {},
     "output_type": "execute_result"
    }
   ],
   "source": [
    "pd.set_option(\"display.colheader_justify\", \"left\")\n",
    "pd.set_option(\"display.html.border\", 0)\n",
    "html_table_style = {\"selector\": \"th\", \"props\": [(\"text-align\", \"left\")]}\n",
    "\n",
    "magnetic_patterns = yaml.load(Path(\"magnetic_patterns-6.yml\"))\n",
    "pd.DataFrame(magnetic_patterns[\"6atoms\"]).style \\\n",
    "    .set_table_styles(html_table_style) \\\n",
    "    .hide_index()"
   ]
  },
  {
   "cell_type": "code",
   "execution_count": 6,
   "metadata": {
    "collapsed": true
   },
   "outputs": [],
   "source": [
    "y={}\n",
    "y['nm'] = magnetic_patterns['6atoms']['nm']\n",
    "y['f-type'] = magnetic_patterns['6atoms']['f-type']\n",
    "y['a-type'] = magnetic_patterns['6atoms']['a-type']\n",
    "new6 = structure_mnau2.copy(y)\n",
    "new6.make_supercell([5,5,5])\n",
    "xyz = new6.cart_coords\n",
    "supercell = pd.concat([pd.DataFrame(new6.species, columns=[\"species\"]),\n",
    "                          pd.DataFrame(new6.cart_coords, columns=[\"x\",\"y\",\"z\"]), \n",
    "                          pd.DataFrame(new6.site_properties[\"nm\"], columns=[\"nm\"]) , \n",
    "                          pd.DataFrame(new6.site_properties[\"f-type\"], columns=[\"f-type\"]) ,\n",
    "                          pd.DataFrame(new6.site_properties[\"a-type\"], columns=[\"a-type\"]) ,\n",
    "                      ],\n",
    "                          axis=1, )\n",
    "\n",
    "supercell.to_csv('mnau2-6.xyz', header=True, index=False, sep='\\t')"
   ]
  },
  {
   "cell_type": "code",
   "execution_count": 8,
   "metadata": {},
   "outputs": [
    {
     "name": "stdout",
     "output_type": "stream",
     "text": [
      "Full Formula (Mn4 Au8)\n",
      "Reduced Formula: MnAu2\n",
      "abc   :   4.801027   4.801027   8.880636\n",
      "angles:  90.000000  90.000000  90.000000\n",
      "Sites (12)\n",
      "  #  SP      a    b         c\n",
      "---  ----  ---  ---  --------\n",
      "  0  Mn    0    0    0\n",
      "  1  Mn    0.5  0.5  0\n",
      "  2  Au    0.5  0    0.840319\n",
      "  3  Au    1    0.5  0.840319\n",
      "  4  Au    0.5  0    0.159681\n",
      "  5  Au    1    0.5  0.159681\n",
      "  6  Mn    0.5  0    0.5\n",
      "  7  Mn    1    0.5  0.5\n",
      "  8  Au    0    0    0.340319\n",
      "  9  Au    0.5  0.5  0.340319\n",
      " 10  Au    0    0    0.659681\n",
      " 11  Au    0.5  0.5  0.659681\n"
     ]
    }
   ],
   "source": [
    "rotate_cell_45_degrees = SupercellTransformation(\n",
    "    scaling_matrix=[[1, 1, 0],\n",
    "                    [1, -1, 0],\n",
    "                    [0, 0, 1]],\n",
    ")\n",
    "\n",
    "rotated_structure_mnau2 = rotate_cell_45_degrees.apply_transformation(structure_mnau2)\n",
    "print(rotated_structure_mnau2)"
   ]
  },
  {
   "cell_type": "code",
   "execution_count": 9,
   "metadata": {},
   "outputs": [],
   "source": [
    "rotated_structure_mnau2.to(filename=\"mnau2-12.cif\")"
   ]
  },
  {
   "cell_type": "code",
   "execution_count": 10,
   "metadata": {},
   "outputs": [
    {
     "data": {
      "text/html": [
       "<style  type=\"text/css\" >\n",
       "    #T_b1b71480_2f01_11e9_b093_99d1dc8002ec  {\n",
       "    }    #T_b1b71480_2f01_11e9_b093_99d1dc8002ec  {\n",
       "    }</style>  \n",
       "<table id=\"T_b1b71480_2f01_11e9_b093_99d1dc8002ec\" > \n",
       "<thead>    <tr> \n",
       "        <th class=\"col_heading level0 col0\" >nm</th> \n",
       "        <th class=\"col_heading level0 col1\" >f-type</th> \n",
       "        <th class=\"col_heading level0 col2\" >a-type</th> \n",
       "        <th class=\"col_heading level0 col3\" >g-type</th> \n",
       "    </tr></thead> \n",
       "<tbody>    <tr> \n",
       "        <td id=\"T_b1b71480_2f01_11e9_b093_99d1dc8002ecrow0_col0\" class=\"data row0 col0\" >0</td> \n",
       "        <td id=\"T_b1b71480_2f01_11e9_b093_99d1dc8002ecrow0_col1\" class=\"data row0 col1\" >1</td> \n",
       "        <td id=\"T_b1b71480_2f01_11e9_b093_99d1dc8002ecrow0_col2\" class=\"data row0 col2\" >1</td> \n",
       "        <td id=\"T_b1b71480_2f01_11e9_b093_99d1dc8002ecrow0_col3\" class=\"data row0 col3\" >1</td> \n",
       "    </tr>    <tr> \n",
       "        <td id=\"T_b1b71480_2f01_11e9_b093_99d1dc8002ecrow1_col0\" class=\"data row1 col0\" >0</td> \n",
       "        <td id=\"T_b1b71480_2f01_11e9_b093_99d1dc8002ecrow1_col1\" class=\"data row1 col1\" >0</td> \n",
       "        <td id=\"T_b1b71480_2f01_11e9_b093_99d1dc8002ecrow1_col2\" class=\"data row1 col2\" >0</td> \n",
       "        <td id=\"T_b1b71480_2f01_11e9_b093_99d1dc8002ecrow1_col3\" class=\"data row1 col3\" >0</td> \n",
       "    </tr>    <tr> \n",
       "        <td id=\"T_b1b71480_2f01_11e9_b093_99d1dc8002ecrow2_col0\" class=\"data row2 col0\" >0</td> \n",
       "        <td id=\"T_b1b71480_2f01_11e9_b093_99d1dc8002ecrow2_col1\" class=\"data row2 col1\" >0</td> \n",
       "        <td id=\"T_b1b71480_2f01_11e9_b093_99d1dc8002ecrow2_col2\" class=\"data row2 col2\" >0</td> \n",
       "        <td id=\"T_b1b71480_2f01_11e9_b093_99d1dc8002ecrow2_col3\" class=\"data row2 col3\" >0</td> \n",
       "    </tr>    <tr> \n",
       "        <td id=\"T_b1b71480_2f01_11e9_b093_99d1dc8002ecrow3_col0\" class=\"data row3 col0\" >0</td> \n",
       "        <td id=\"T_b1b71480_2f01_11e9_b093_99d1dc8002ecrow3_col1\" class=\"data row3 col1\" >1</td> \n",
       "        <td id=\"T_b1b71480_2f01_11e9_b093_99d1dc8002ecrow3_col2\" class=\"data row3 col2\" >1</td> \n",
       "        <td id=\"T_b1b71480_2f01_11e9_b093_99d1dc8002ecrow3_col3\" class=\"data row3 col3\" >-1</td> \n",
       "    </tr>    <tr> \n",
       "        <td id=\"T_b1b71480_2f01_11e9_b093_99d1dc8002ecrow4_col0\" class=\"data row4 col0\" >0</td> \n",
       "        <td id=\"T_b1b71480_2f01_11e9_b093_99d1dc8002ecrow4_col1\" class=\"data row4 col1\" >0</td> \n",
       "        <td id=\"T_b1b71480_2f01_11e9_b093_99d1dc8002ecrow4_col2\" class=\"data row4 col2\" >0</td> \n",
       "        <td id=\"T_b1b71480_2f01_11e9_b093_99d1dc8002ecrow4_col3\" class=\"data row4 col3\" >0</td> \n",
       "    </tr>    <tr> \n",
       "        <td id=\"T_b1b71480_2f01_11e9_b093_99d1dc8002ecrow5_col0\" class=\"data row5 col0\" >0</td> \n",
       "        <td id=\"T_b1b71480_2f01_11e9_b093_99d1dc8002ecrow5_col1\" class=\"data row5 col1\" >0</td> \n",
       "        <td id=\"T_b1b71480_2f01_11e9_b093_99d1dc8002ecrow5_col2\" class=\"data row5 col2\" >0</td> \n",
       "        <td id=\"T_b1b71480_2f01_11e9_b093_99d1dc8002ecrow5_col3\" class=\"data row5 col3\" >0</td> \n",
       "    </tr>    <tr> \n",
       "        <td id=\"T_b1b71480_2f01_11e9_b093_99d1dc8002ecrow6_col0\" class=\"data row6 col0\" >0</td> \n",
       "        <td id=\"T_b1b71480_2f01_11e9_b093_99d1dc8002ecrow6_col1\" class=\"data row6 col1\" >1</td> \n",
       "        <td id=\"T_b1b71480_2f01_11e9_b093_99d1dc8002ecrow6_col2\" class=\"data row6 col2\" >-1</td> \n",
       "        <td id=\"T_b1b71480_2f01_11e9_b093_99d1dc8002ecrow6_col3\" class=\"data row6 col3\" >1</td> \n",
       "    </tr>    <tr> \n",
       "        <td id=\"T_b1b71480_2f01_11e9_b093_99d1dc8002ecrow7_col0\" class=\"data row7 col0\" >0</td> \n",
       "        <td id=\"T_b1b71480_2f01_11e9_b093_99d1dc8002ecrow7_col1\" class=\"data row7 col1\" >0</td> \n",
       "        <td id=\"T_b1b71480_2f01_11e9_b093_99d1dc8002ecrow7_col2\" class=\"data row7 col2\" >0</td> \n",
       "        <td id=\"T_b1b71480_2f01_11e9_b093_99d1dc8002ecrow7_col3\" class=\"data row7 col3\" >0</td> \n",
       "    </tr>    <tr> \n",
       "        <td id=\"T_b1b71480_2f01_11e9_b093_99d1dc8002ecrow8_col0\" class=\"data row8 col0\" >0</td> \n",
       "        <td id=\"T_b1b71480_2f01_11e9_b093_99d1dc8002ecrow8_col1\" class=\"data row8 col1\" >0</td> \n",
       "        <td id=\"T_b1b71480_2f01_11e9_b093_99d1dc8002ecrow8_col2\" class=\"data row8 col2\" >0</td> \n",
       "        <td id=\"T_b1b71480_2f01_11e9_b093_99d1dc8002ecrow8_col3\" class=\"data row8 col3\" >0</td> \n",
       "    </tr>    <tr> \n",
       "        <td id=\"T_b1b71480_2f01_11e9_b093_99d1dc8002ecrow9_col0\" class=\"data row9 col0\" >0</td> \n",
       "        <td id=\"T_b1b71480_2f01_11e9_b093_99d1dc8002ecrow9_col1\" class=\"data row9 col1\" >1</td> \n",
       "        <td id=\"T_b1b71480_2f01_11e9_b093_99d1dc8002ecrow9_col2\" class=\"data row9 col2\" >-1</td> \n",
       "        <td id=\"T_b1b71480_2f01_11e9_b093_99d1dc8002ecrow9_col3\" class=\"data row9 col3\" >-1</td> \n",
       "    </tr>    <tr> \n",
       "        <td id=\"T_b1b71480_2f01_11e9_b093_99d1dc8002ecrow10_col0\" class=\"data row10 col0\" >0</td> \n",
       "        <td id=\"T_b1b71480_2f01_11e9_b093_99d1dc8002ecrow10_col1\" class=\"data row10 col1\" >0</td> \n",
       "        <td id=\"T_b1b71480_2f01_11e9_b093_99d1dc8002ecrow10_col2\" class=\"data row10 col2\" >0</td> \n",
       "        <td id=\"T_b1b71480_2f01_11e9_b093_99d1dc8002ecrow10_col3\" class=\"data row10 col3\" >0</td> \n",
       "    </tr>    <tr> \n",
       "        <td id=\"T_b1b71480_2f01_11e9_b093_99d1dc8002ecrow11_col0\" class=\"data row11 col0\" >0</td> \n",
       "        <td id=\"T_b1b71480_2f01_11e9_b093_99d1dc8002ecrow11_col1\" class=\"data row11 col1\" >0</td> \n",
       "        <td id=\"T_b1b71480_2f01_11e9_b093_99d1dc8002ecrow11_col2\" class=\"data row11 col2\" >0</td> \n",
       "        <td id=\"T_b1b71480_2f01_11e9_b093_99d1dc8002ecrow11_col3\" class=\"data row11 col3\" >0</td> \n",
       "    </tr></tbody> \n",
       "</table> "
      ],
      "text/plain": [
       "<pandas.io.formats.style.Styler at 0x7fa67b1d8ba8>"
      ]
     },
     "execution_count": 10,
     "metadata": {},
     "output_type": "execute_result"
    }
   ],
   "source": [
    "pd.set_option(\"display.colheader_justify\", \"left\")\n",
    "pd.set_option(\"display.html.border\", 0)\n",
    "html_table_style = {\"selector\": \"th\", \"props\": [(\"text-align\", \"left\")]}\n",
    "\n",
    "magnetic_patterns = yaml.load(Path(\"magnetic_patterns.yml\"))\n",
    "pd.DataFrame(magnetic_patterns[\"12atoms\"]).style \\\n",
    "    .set_table_styles(html_table_style) \\\n",
    "    .hide_index()"
   ]
  },
  {
   "cell_type": "code",
   "execution_count": 44,
   "metadata": {
    "collapsed": true
   },
   "outputs": [],
   "source": [
    "x={}\n",
    "x['nm'] = magnetic_patterns['12atoms']['nm']\n",
    "x['f-type'] = magnetic_patterns['12atoms']['f-type']\n",
    "x['a-type'] = magnetic_patterns['12atoms']['a-type']\n",
    "x['g-type'] = magnetic_patterns['12atoms']['g-type']\n",
    "new = structure_mnau2.copy(x)\n",
    "new.make_supercell([5,5,5])\n",
    "xyz = new.cart_coords\n",
    "supercell = pd.concat([pd.DataFrame(new.species, columns=[\"species\"]),\n",
    "                          pd.DataFrame(new.cart_coords, columns=[\"x\",\"y\",\"z\"]), \n",
    "                          pd.DataFrame(new.site_properties[\"nm\"], columns=[\"nm\"]) , \n",
    "                          pd.DataFrame(new.site_properties[\"f-type\"], columns=[\"f-type\"]) ,\n",
    "                          pd.DataFrame(new.site_properties[\"a-type\"], columns=[\"a-type\"]) ,\n",
    "                          pd.DataFrame(new.site_properties[\"g-type\"], columns=[\"g-type\"]) \n",
    "                      ],\n",
    "                          axis=1, )\n",
    "\n",
    "supercell.to_csv('mnau2.xyz', header=True, index=False, sep='\\t')"
   ]
  },
  {
   "cell_type": "code",
   "execution_count": null,
   "metadata": {},
   "outputs": [],
   "source": []
  },
  {
   "cell_type": "code",
   "execution_count": null,
   "metadata": {
    "collapsed": true
   },
   "outputs": [],
   "source": []
  }
 ],
 "metadata": {
  "kernelspec": {
   "display_name": "Python 3",
   "language": "python",
   "name": "python3"
  },
  "language_info": {
   "codemirror_mode": {
    "name": "ipython",
    "version": 3
   },
   "file_extension": ".py",
   "mimetype": "text/x-python",
   "name": "python",
   "nbconvert_exporter": "python",
   "pygments_lexer": "ipython3",
   "version": "3.6.1"
  }
 },
 "nbformat": 4,
 "nbformat_minor": 2
}
