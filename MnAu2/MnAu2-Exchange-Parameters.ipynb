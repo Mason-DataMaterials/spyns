{
 "cells": [
  {
   "cell_type": "markdown",
   "metadata": {},
   "source": [
    "### Generating the MnAu2 cell structure inputs for the QE calculations"
   ]
  },
  {
   "cell_type": "markdown",
   "metadata": {},
   "source": [
    "Read in an initial .cif file (6-atoms) and expand to 24 atoms cell by translating in the x,y,z directions to increase the number of Mn atoms. This allows for more magnetic patterns in the Mn layers. Saved to file as a .cif.\n",
    "\n",
    "The pattern matrices and coordinates saved to file are used to generate the input for calculating configuation energies.\n",
    "\n",
    "Total configuration energies and the pattern matrix are inputs for the exchange model calculation of the exchange parameters. "
   ]
  },
  {
   "cell_type": "code",
   "execution_count": 389,
   "metadata": {
    "collapsed": true
   },
   "outputs": [],
   "source": [
    "from pathlib import Path\n",
    "from sys import stdout\n",
    "import numpy as np\n",
    "import pandas as pd\n",
    "import itertools\n",
    "from pymatgen import units\n",
    "from pymatgen.transformations.standard_transformations import SupercellTransformation\n",
    "import sympy\n",
    "from scipy.constants import Boltzmann, electron_volt\n",
    "from sympy import symbols\n",
    "from sympy.vector import CoordSys3D\n",
    "\n",
    "import statsmodels.formula.api as smf\n",
    "from sklearn.linear_model import LinearRegression\n",
    "\n",
    "\n",
    "from ruamel.yaml import YAML\n",
    "yaml = YAML()\n",
    "\n",
    "from neighbormodels.structure import from_file\n",
    "from neighbormodels.neighbors import count_neighbors\n",
    "from neighbormodels.interactions import build_model\n",
    "\n",
    "kB = 1000 * Boltzmann / electron_volt\n",
    "\n",
    "pd.set_option(\"display.colheader_justify\", \"left\")\n",
    "pd.set_option(\"display.html.border\", 0)\n",
    "html_table_style = {\"selector\": \"th\", \"props\": [(\"text-align\", \"left\")]}"
   ]
  },
  {
   "cell_type": "markdown",
   "metadata": {},
   "source": [
    "### Starting with 6 atom cell:"
   ]
  },
  {
   "cell_type": "code",
   "execution_count": 233,
   "metadata": {},
   "outputs": [
    {
     "name": "stdout",
     "output_type": "stream",
     "text": [
      "Full Formula (Mn2 Au4)\n",
      "Reduced Formula: MnAu2\n",
      "abc   :   3.394839   3.394839   8.880636\n",
      "angles:  90.000000  90.000000  90.000000\n",
      "Sites (6)\n",
      "  #  SP      a    b         c\n",
      "---  ----  ---  ---  --------\n",
      "  0  Mn    0    0    0\n",
      "  1  Au    0.5  0.5  0.840319\n",
      "  2  Au    0.5  0.5  0.159681\n",
      "  3  Mn    0.5  0.5  0.5\n",
      "  4  Au    0    0    0.340319\n",
      "  5  Au    0    0    0.659681\n"
     ]
    }
   ],
   "source": [
    "cif_filepath = \"data/mnau2-6.cif\"\n",
    "structure_mnau26 = from_file(structure_file=cif_filepath)\n",
    "print(structure_mnau26)"
   ]
  },
  {
   "cell_type": "markdown",
   "metadata": {},
   "source": [
    "### Getting the neighbor information to calculate the exchange parameters:"
   ]
  },
  {
   "cell_type": "markdown",
   "metadata": {},
   "source": [
    "Magnetic structure read in from the 24 atom Mn8Au16 structure with determined unique (collinear) patterns."
   ]
  },
  {
   "cell_type": "code",
   "execution_count": 390,
   "metadata": {},
   "outputs": [
    {
     "name": "stderr",
     "output_type": "stream",
     "text": [
      "/home/ssilayi/anaconda3/lib/python3.6/site-packages/pymatgen/core/lattice.py:694: FutureWarning: `rcond` parameter will change to the default of machine precision times ``max(M, N)`` where M and N are the input matrix dimensions.\n",
      "To use the future default and silence this warning we advise to pass `rcond=None`, to keep using the old, explicitly pass `rcond=-1`.\n",
      "  result = np.linalg.lstsq(q.T, p.T)[0].T\n"
     ]
    }
   ],
   "source": [
    "cif_filepath1 = \"data/mn8au16_collinear.cif\"\n",
    "cif_filepath2 = \"data/mn8au16_1x1x4.cif\"\n",
    "structure_mnau2_c = from_file(structure_file=cif_filepath1)\n",
    "structure_mnau2_z = from_file(structure_file=cif_filepath2)\n",
    "#print(structure_mnau2_c)\n",
    "#print(structure_mnau2_z)"
   ]
  },
  {
   "cell_type": "markdown",
   "metadata": {
    "collapsed": true
   },
   "source": [
    "Read in and rearrange the pattern matrices to match the atomic sequence in the structure and create a pattern matrix useable in the exchange model calculation.  "
   ]
  },
  {
   "cell_type": "code",
   "execution_count": 325,
   "metadata": {},
   "outputs": [],
   "source": [
    "def pattern_tables( layer, p_type):\n",
    "    n_row, n_column = layer.shape\n",
    "    au_layer = pd.DataFrame(np.zeros((2,n_column)))\n",
    "    patterns = pd.concat([ layer[0:1],au_layer,\n",
    "                           layer[1:2],au_layer,\n",
    "                           layer[2:3],au_layer,\n",
    "                           layer[3:4],au_layer,\n",
    "                           layer[4:5],au_layer,\n",
    "                           layer[5:6],au_layer,\n",
    "                           layer[6:7],au_layer,\n",
    "                           layer[7:8],au_layer], ignore_index=True)\n",
    "    \n",
    "    p_types =[]\n",
    "    p_types.append(\"nm\")\n",
    "    index = np.arange(1,len(patterns.columns))\n",
    "    for i in index:\n",
    "        p_types.append(p_type+str(i))\n",
    "    patterns.columns = p_types\n",
    "    \n",
    "    return patterns\n",
    "\n",
    "c_layer=pd.read_csv('data/mg_collinear_patterns', header=None)\n",
    "c_patterns = pattern_tables( c_layer, \"c-\")\n",
    "\n",
    "z_layer=pd.read_csv('data/mg_1x1x4_patterns', header=None)\n",
    "z_patterns = pattern_tables( z_layer, \"z-\")"
   ]
  },
  {
   "cell_type": "markdown",
   "metadata": {},
   "source": [
    "### Calculate the neighbor energies from the magnetic patterns:"
   ]
  },
  {
   "cell_type": "code",
   "execution_count": 393,
   "metadata": {},
   "outputs": [],
   "source": [
    "def pattern_model(pattern_structure, pattern_mg):\n",
    "    pattern_neighbor_data = count_neighbors(cell_structure=pattern_structure, r=8.8)\n",
    "    exchange_model = build_model(magnetic_patterns=pattern_mg, neighbor_data=pattern_neighbor_data)\n",
    "    #drop the Au atoms\n",
    "    exchange_model = exchange_model[exchange_model.columns.drop(list(exchange_model.filter(regex='Au')))]\n",
    "    \n",
    "    return exchange_model\n",
    "    \n",
    "    \n",
    "exchange_model_c = pattern_model(structure_mnau2_c, c_patterns)\n",
    "exchange_model_z = pattern_model(structure_mnau2_z, z_patterns)\n",
    "\n",
    "#combine different cells\n",
    "exchange_model_all = pd.concat([exchange_model_c, exchange_model_z])\n",
    "#exchange_model_all"
   ]
  },
  {
   "cell_type": "markdown",
   "metadata": {},
   "source": [
    "#### Pre-process: Check that magnetic moment is not lost and that energy values are unique for the different patterns within a tolerance of 0.1 meV"
   ]
  },
  {
   "cell_type": "markdown",
   "metadata": {
    "collapsed": true
   },
   "source": [
    " Calculated energies for different patterns using QE:"
   ]
  },
  {
   "cell_type": "code",
   "execution_count": 379,
   "metadata": {},
   "outputs": [
    {
     "name": "stderr",
     "output_type": "stream",
     "text": [
      "/home/ssilayi/anaconda3/lib/python3.6/site-packages/ipykernel_launcher.py:16: SettingWithCopyWarning: \n",
      "A value is trying to be set on a copy of a slice from a DataFrame\n",
      "\n",
      "See the caveats in the documentation: http://pandas.pydata.org/pandas-docs/stable/indexing.html#indexing-view-versus-copy\n",
      "  app.launch_new_instance()\n"
     ]
    }
   ],
   "source": [
    "#Check that all energies are not within the tolerance value of each other\n",
    "def drop_duplicates(qe_energies):\n",
    "    \n",
    "    qe_energies.columns = [\"pattern\", \"num_sites\", \"total_energy\" ]\n",
    "    ryd_to_ev = 13.605693009 #eV \n",
    "    tol = 0.0001 #eV\n",
    "\n",
    "    #convert to eV\n",
    "    qe_energies[\"total_energy\"] = qe_energies[\"total_energy\"]*ryd_to_ev\n",
    "\n",
    "    for i in range(len(qe_energies)-1):\n",
    "        for j in range(1+1,len(qe_energies)):\n",
    "            if (i != j):\n",
    "                diff = abs(qe_energies[\"total_energy\"][i] - qe_energies[\"total_energy\"][j])\n",
    "                if (  diff  <= tol ):\n",
    "                    qe_energies[\"pattern\"][j] = qe_energies[\"pattern\"][i]\n",
    "                    #print (i,j, qe_energies[\"total_energy\"][i], qe_energies[\"total_energy\"][j], diff)\n",
    "                \n",
    "                \n",
    "    #drop repeating energies            \n",
    "    qe_energies = qe_energies.reset_index(drop=True).drop_duplicates([\"pattern\"], keep=\"first\")           \n",
    " \n",
    "    #convert back to Rydberg\n",
    "    qe_energies[\"total_energy\"] = qe_energies[\"total_energy\"]/ryd_to_ev\n",
    "    \n",
    "    return qe_energies\n",
    "\n",
    "#Calculated energies from QE for the different patterns are tabulated and read in\n",
    "qe_energies1 = pd.read_csv('data/energy.out.collinear.csv', header=None)\n",
    "qe_energies_c = drop_duplicates(qe_energies1) \n",
    "\n",
    "qe_energies2 = pd.read_csv('data/energy.out.1x1x4.csv', header=None)\n",
    "qe_energies_z = drop_duplicates(qe_energies2)    \n",
    "\n",
    "#combine all energies\n",
    "qe_energies_all = pd.concat([qe_energies_c, qe_energies_z])\n",
    "qe_energies_all = qe_energies_all.reset_index(drop=True).drop_duplicates([\"pattern\"], keep=\"first\") \n",
    "#qe_energies_all\n"
   ]
  },
  {
   "cell_type": "markdown",
   "metadata": {},
   "source": [
    "Checking magnetic moments are conserved:"
   ]
  },
  {
   "cell_type": "code",
   "execution_count": 396,
   "metadata": {},
   "outputs": [],
   "source": [
    "def mg_moments_check(mg_moments, qe_energies):\n",
    "    n_row, n_column = mg_moments.shape\n",
    "    mg_moments = pd.DataFrame(round (abs(mg_moments/4.0)).sum(axis=0), columns=[\"total_moment\"])\n",
    "    mg_moments = pd.concat ([qe_energies['pattern'], mg_moments['total_moment']], axis=1)\n",
    "    return mg_moments[(mg_moments['total_moment'] != n_row ) & (mg_moments['pattern'] != \"nm\") ] #.head()\n",
    "    \n",
    "#read in magnetic moments and return any that don't have the expected total magnetic moment (18)\n",
    "mg_moments_c = pd.read_csv('data/mg_moment.collinear',sep='\\t', header=None)\n",
    "zero_moments_c = mg_moments_check(mg_moments_c, qe_energies_c)\n",
    "#zero_moments_c\n",
    "\n",
    "mg_moments_z = pd.read_csv('data/mg_moment.1x1x4',sep='\\t', header=None)\n",
    "zero_moments_z = mg_moments_check(mg_moments_z, qe_energies_z)\n",
    "#zero_moments_z"
   ]
  },
  {
   "cell_type": "markdown",
   "metadata": {},
   "source": [
    "### Building the Model Matrix:\n",
    "Calculated energies and values from neighbor model matched according to pattern type. \n",
    "The energies are normalized relative to the \"nm\" type (spin 0)."
   ]
  },
  {
   "cell_type": "code",
   "execution_count": 397,
   "metadata": {},
   "outputs": [],
   "source": [
    "def ModelMatrix(qe_energies, exchange_model):\n",
    "    model_matrix = qe_energies \\\n",
    "        .assign(energy = lambda x:\n",
    "            (x[\"total_energy\"] -\n",
    "             np.float64(x.query(\"pattern == 'nm'\").loc[:, \"total_energy\"])) *\n",
    "            1000 * units.Ha_to_eV / x[\"num_sites\"])  \\\n",
    "        .merge(exchange_model, on=[\"pattern\"]) \\\n",
    "        .query(\"pattern != 'nm'\") \\\n",
    "        .assign(J1 = lambda x: x[\"J1_MnMn\"]) \\\n",
    "        .assign(J2 = lambda x: x[\"J2_MnMn\"]) \\\n",
    "        .assign(J3 = lambda x: x[\"J3_MnMn\"]) \\\n",
    "        .assign(J4 = lambda x: x[\"J4_MnMn\"]) \\\n",
    "        .assign(J5 = lambda x: x[\"J5_MnMn\"]) \\\n",
    "        .assign(J6 = lambda x: x[\"J6_MnMn\"]) \\\n",
    "        .assign(J7 = lambda x: x[\"J7_MnMn\"]) \\\n",
    "        .assign(J8 = lambda x: x[\"J7_MnMn\"]) \\\n",
    "        .loc[:, [\"pattern\", \"energy\", \"J1\", \"J2\", \"J3\", \"J4\", \"J5\" , \"J6\", \"J7\", \"J8\"]]\n",
    "\n",
    "    return model_matrix\n",
    "\n",
    "model_matrix = ModelMatrix(qe_energies_all, exchange_model_all)\n",
    "#model_matrix"
   ]
  },
  {
   "cell_type": "markdown",
   "metadata": {},
   "source": [
    "### Fitting to get final parameters:\n",
    "\n",
    "Final matrix of energies and exchange model is used in a fit function to get the values of the J parameters.\n",
    "2 results are compared, and values are in units of Rydberg."
   ]
  },
  {
   "cell_type": "code",
   "execution_count": 398,
   "metadata": {
    "collapsed": true
   },
   "outputs": [],
   "source": [
    "smf_exchange_fit = smf.ols(data=model_matrix, formula=\"energy ~ J1 + J2 + J3 + J4 +J5 + J6 + J7 + J8\").fit()\n",
    "smf_exchange_parameters = pd.DataFrame(smf_exchange_fit.params, columns=[\"stats_models\"])\n",
    "#smf_exchange_parameters"
   ]
  },
  {
   "cell_type": "code",
   "execution_count": 399,
   "metadata": {},
   "outputs": [],
   "source": [
    "lm = LinearRegression()\n",
    "lm_exchange_fit = lm.fit(X=model_matrix[[\"J1\", \"J2\", \"J3\", \"J4\", \"J5\", \"J6\", \"J7\", \"J8\"]], y=model_matrix[\"energy\"])\n",
    "lm_exchange_parameters = pd.DataFrame({\n",
    "    \"sklearn\": [lm_exchange_fit.intercept_, \n",
    "                lm_exchange_fit.coef_[0], lm_exchange_fit.coef_[1],lm_exchange_fit.coef_[2],\n",
    "                lm_exchange_fit.coef_[3], lm_exchange_fit.coef_[4],lm_exchange_fit.coef_[5],\n",
    "                lm_exchange_fit.coef_[6], lm_exchange_fit.coef_[7]]},\n",
    "    index=[\"Intercept\", \"J1\", \"J2\", \"J3\", \"J4\", \"J5\", \"J6\", \"J7\", \"J8\"],\n",
    ")\n",
    "#lm_exchange_parameters"
   ]
  },
  {
   "cell_type": "code",
   "execution_count": 400,
   "metadata": {},
   "outputs": [
    {
     "data": {
      "text/html": [
       "<div>\n",
       "<style scoped>\n",
       "    .dataframe tbody tr th:only-of-type {\n",
       "        vertical-align: middle;\n",
       "    }\n",
       "\n",
       "    .dataframe tbody tr th {\n",
       "        vertical-align: top;\n",
       "    }\n",
       "\n",
       "    .dataframe thead th {\n",
       "        text-align: right;\n",
       "    }\n",
       "</style>\n",
       "<table border=\"0\" class=\"dataframe\">\n",
       "  <thead>\n",
       "    <tr style=\"text-align: left;\">\n",
       "      <th></th>\n",
       "      <th>stats_models</th>\n",
       "      <th>sklearn</th>\n",
       "    </tr>\n",
       "  </thead>\n",
       "  <tbody>\n",
       "    <tr>\n",
       "      <th>Intercept</th>\n",
       "      <td>-2340.698546</td>\n",
       "      <td>-2340.698546</td>\n",
       "    </tr>\n",
       "    <tr>\n",
       "      <th>J1</th>\n",
       "      <td>-4.622895</td>\n",
       "      <td>-4.622895</td>\n",
       "    </tr>\n",
       "    <tr>\n",
       "      <th>J2</th>\n",
       "      <td>-12.230765</td>\n",
       "      <td>-12.230765</td>\n",
       "    </tr>\n",
       "    <tr>\n",
       "      <th>J3</th>\n",
       "      <td>-1.916237</td>\n",
       "      <td>-1.916237</td>\n",
       "    </tr>\n",
       "    <tr>\n",
       "      <th>J4</th>\n",
       "      <td>-16.408480</td>\n",
       "      <td>-16.408480</td>\n",
       "    </tr>\n",
       "    <tr>\n",
       "      <th>J5</th>\n",
       "      <td>2.393551</td>\n",
       "      <td>2.393551</td>\n",
       "    </tr>\n",
       "    <tr>\n",
       "      <th>J6</th>\n",
       "      <td>-9.245790</td>\n",
       "      <td>-9.245790</td>\n",
       "    </tr>\n",
       "    <tr>\n",
       "      <th>J7</th>\n",
       "      <td>-1.916237</td>\n",
       "      <td>-1.916237</td>\n",
       "    </tr>\n",
       "    <tr>\n",
       "      <th>J8</th>\n",
       "      <td>-1.916237</td>\n",
       "      <td>-1.916237</td>\n",
       "    </tr>\n",
       "  </tbody>\n",
       "</table>\n",
       "</div>"
      ],
      "text/plain": [
       "           stats_models  sklearn    \n",
       "Intercept -2340.698546  -2340.698546\n",
       "J1           -4.622895     -4.622895\n",
       "J2          -12.230765    -12.230765\n",
       "J3           -1.916237     -1.916237\n",
       "J4          -16.408480    -16.408480\n",
       "J5            2.393551      2.393551\n",
       "J6           -9.245790     -9.245790\n",
       "J7           -1.916237     -1.916237\n",
       "J8           -1.916237     -1.916237"
      ]
     },
     "execution_count": 400,
     "metadata": {},
     "output_type": "execute_result"
    }
   ],
   "source": [
    "exchange_parameters = pd.concat([smf_exchange_parameters,lm_exchange_parameters], axis=1)\n",
    "#save to file    \n",
    "exchange_parameters.to_csv(\"data/mnau2_exchange_parameters.collinear.txt\", sep=' ')\n",
    "exchange_parameters"
   ]
  },
  {
   "cell_type": "code",
   "execution_count": null,
   "metadata": {
    "collapsed": true
   },
   "outputs": [],
   "source": []
  },
  {
   "cell_type": "code",
   "execution_count": null,
   "metadata": {
    "collapsed": true
   },
   "outputs": [],
   "source": []
  }
 ],
 "metadata": {
  "kernelspec": {
   "display_name": "Python 3",
   "language": "python",
   "name": "python3"
  },
  "language_info": {
   "codemirror_mode": {
    "name": "ipython",
    "version": 3
   },
   "file_extension": ".py",
   "mimetype": "text/x-python",
   "name": "python",
   "nbconvert_exporter": "python",
   "pygments_lexer": "ipython3",
   "version": "3.6.1"
  }
 },
 "nbformat": 4,
 "nbformat_minor": 2
}
