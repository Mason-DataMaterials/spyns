{
 "cells": [
  {
   "cell_type": "markdown",
   "metadata": {},
   "source": [
    "### Generating the MnAu2 cell structure inputs for the QE calculations"
   ]
  },
  {
   "cell_type": "markdown",
   "metadata": {},
   "source": [
    "Read in an initial .cif file (6-atoms) and expand to 54 atoms cell by translating in the x,y directions to increase the number of Mn atoms. This allows for more magnetic patterns in the Mn layers. Save to file as a .cif. \n",
    "The patterns matrix and coordinateis saved to file are used to generate the input for calculating configuation energies.\n",
    "Total configuration energies and the pattern matrix are input for the exchange model to calculate the exchange parameters. \n"
   ]
  },
  {
   "cell_type": "code",
   "execution_count": 223,
   "metadata": {
    "collapsed": true
   },
   "outputs": [],
   "source": [
    "from pathlib import Path\n",
    "from sys import stdout\n",
    "import numpy as np\n",
    "import pandas as pd\n",
    "import itertools\n",
    "from pymatgen import units\n",
    "from pymatgen.transformations.standard_transformations import SupercellTransformation\n",
    "import sympy\n",
    "from scipy.constants import Boltzmann, electron_volt\n",
    "from sympy import symbols\n",
    "from sympy.vector import CoordSys3D\n",
    "\n",
    "import statsmodels.formula.api as smf\n",
    "from sklearn.linear_model import LinearRegression\n",
    "\n",
    "\n",
    "from ruamel.yaml import YAML\n",
    "yaml = YAML()\n",
    "\n",
    "from neighbormodels.structure import from_file\n",
    "from neighbormodels.neighbors import count_neighbors\n",
    "from neighbormodels.interactions import build_model\n",
    "\n",
    "kB = 1000 * Boltzmann / electron_volt\n",
    "\n",
    "pd.set_option(\"display.colheader_justify\", \"left\")\n",
    "pd.set_option(\"display.html.border\", 0)\n",
    "html_table_style = {\"selector\": \"th\", \"props\": [(\"text-align\", \"left\")]}"
   ]
  },
  {
   "cell_type": "markdown",
   "metadata": {},
   "source": [
    "### Starting with 6 atom cell:"
   ]
  },
  {
   "cell_type": "code",
   "execution_count": 252,
   "metadata": {},
   "outputs": [
    {
     "name": "stdout",
     "output_type": "stream",
     "text": [
      "Full Formula (Mn2 Au4)\n",
      "Reduced Formula: MnAu2\n",
      "abc   :   3.394839   3.394839   8.880636\n",
      "angles:  90.000000  90.000000  90.000000\n",
      "Sites (6)\n",
      "  #  SP      a    b         c\n",
      "---  ----  ---  ---  --------\n",
      "  0  Mn    0    0    0\n",
      "  1  Au    0.5  0.5  0.840319\n",
      "  2  Au    0.5  0.5  0.159681\n",
      "  3  Mn    0.5  0.5  0.5\n",
      "  4  Au    0    0    0.340319\n",
      "  5  Au    0    0    0.659681\n"
     ]
    }
   ],
   "source": [
    "cif_filepath = \"data/mnau2-6.cif\"\n",
    "structure_mnau26 = from_file(structure_file=cif_filepath)\n",
    "print(structure_mnau26)"
   ]
  },
  {
   "cell_type": "markdown",
   "metadata": {},
   "source": [
    "### Translated to create the 54 Atom cell: "
   ]
  },
  {
   "cell_type": "code",
   "execution_count": 254,
   "metadata": {},
   "outputs": [],
   "source": [
    "structure_mnau254 = structure_mnau26.copy()\n",
    "structure_mnau254.make_supercell([3,3,1])\n",
    "structure_mnau254.to(filename=\"data/mnau2-54.cif\")\n",
    "#print(structure_mnau254)"
   ]
  },
  {
   "cell_type": "markdown",
   "metadata": {},
   "source": [
    "### Generate magentic pattern permutations for the 18 Mn atoms in the 54 atom cell: "
   ]
  },
  {
   "cell_type": "code",
   "execution_count": 236,
   "metadata": {
    "collapsed": true
   },
   "outputs": [],
   "source": [
    "#512 possible permutaions for 9 atoms (single layer Mn) and either 1,-1 spin value\n",
    "patterns1 = list(itertools.product([1,-1], repeat=9))\n",
    "pmatrix = np.zeros((len(patterns1), 9))\n",
    "for i in range(len(patterns1)):\n",
    "    pmatrix[i] = np.array(patterns1[i])\n",
    "p_matrix = pmatrix.transpose()\n",
    "\n",
    "#Use matrix of Mn permutations together with Au matrix (spin 0) layered to create whole table of patterns\n",
    "#taking only the first 200 cases here.\n",
    "Mn_layer = pd.DataFrame(p_matrix[:,0:200])\n",
    "Au_layer = pd.DataFrame(np.zeros((18,200)))\n",
    "pattern_matrix_g = pd.concat([Mn_layer,Mn_layer*-1,Au_layer,Au_layer], ignore_index=True)\n",
    "\n",
    "#Create part of QE input file by mapping the sites to either Mn or Au and writing to file.\n",
    "#Additional script and modified coordinates from mnau2.cif generates the actual input files.\n",
    "map_Mn = {1: \"Mn1\", -1:\"Mn2\", 0: \"Au\"}\n",
    "for i in range(200):\n",
    "    pattern_matrix_g[i] = pattern_matrix_g[i].map(map_Mn)\n",
    "\n",
    "pattern_matrix_g.to_csv(\"data/mg_patterns-g.list\", header=False, index=False, sep='\\t')"
   ]
  },
  {
   "cell_type": "markdown",
   "metadata": {},
   "source": [
    "### Getting the neighbor information to calculate the exchange parameters:"
   ]
  },
  {
   "cell_type": "markdown",
   "metadata": {
    "collapsed": true
   },
   "source": [
    "Rearrange the pattern matrices to match the atomic sequence in the structure and create pattern matrix useable \n",
    "in the exchange model calculation.  \n"
   ]
  },
  {
   "cell_type": "code",
   "execution_count": 180,
   "metadata": {},
   "outputs": [],
   "source": [
    "nm_col = pd.concat([Mn_layer[0]*0,Au_layer[0],Mn_layer[0]*0,Au_layer[0]],ignore_index=True)\n",
    "fm_col = pd.concat([Mn_layer[0],Au_layer[0],Mn_layer[0],Au_layer[0]], ignore_index=True)\n",
    "pattern_matrix_g = pd.concat([Mn_layer,Au_layer,Mn_layer*-1, Au_layer],  ignore_index=True)\n",
    "pattern_matrix = pd.concat([nm_col, fm_col, pattern_matrix_g],  axis=1)\n",
    "\n",
    "\n",
    "types =[]\n",
    "types.append(\"nm\")\n",
    "types.append(\"fm\")\n",
    "index = np.arange(1,len(pattern_matrix.columns)-1)\n",
    "for i in index:\n",
    "    types.append(\"g-\"+str(i))\n",
    "    \n",
    "pattern_matrix.columns = types\n",
    "xyz = pd.concat([pd.DataFrame(structure_mnau254.species,columns=[\"species\"]), \n",
    "                 pd.DataFrame(structure_mnau254.cart_coords, columns=[\"x\",\"y\",\"z\"])],\n",
    "                              axis=1)\n",
    "\n",
    "mnau2_patterns = pd.DataFrame( pd.concat([ xyz,pattern_matrix], axis=1 ) )\n",
    "\n",
    "#save to file for visualization.\n",
    "mnau2_patterns.to_csv(\"data/mnau2_patterns.xyz\", index=False, sep='\\t')\n",
    "\n",
    "\n"
   ]
  },
  {
   "cell_type": "markdown",
   "metadata": {},
   "source": [
    "### Calculate the neighbor energies from the magnetic patterns:"
   ]
  },
  {
   "cell_type": "code",
   "execution_count": 234,
   "metadata": {},
   "outputs": [],
   "source": [
    "mod_structure_mnau2 = structure_mnau254.copy()\n",
    "mnau2_neighbor_data = count_neighbors(cell_structure=mod_structure_mnau2, r=6.8)\n",
    "exchange_model = build_model(magnetic_patterns=pattern_matrix, neighbor_data=mnau2_neighbor_data)\n",
    "\n",
    "#drop the Au atoms\n",
    "exchange_model = exchange_model[exchange_model.columns.drop(list(exchange_model.filter(regex='Au')))]\n",
    "\n",
    "#exchange_model"
   ]
  },
  {
   "cell_type": "markdown",
   "metadata": {
    "collapsed": true
   },
   "source": [
    "### Calculated energies for different patterns using QE:"
   ]
  },
  {
   "cell_type": "code",
   "execution_count": 274,
   "metadata": {},
   "outputs": [],
   "source": [
    "#Calculated energies from QE for the different patterns are tabulated and read in\n",
    "qe_energies = pd.read_csv('data/energy.out.200', header=None)\n",
    "qe_energies.columns = [\"pattern\", \"num_sites\", \"total_energy\" ]\n",
    "\n",
    "#qe_energies"
   ]
  },
  {
   "cell_type": "markdown",
   "metadata": {},
   "source": [
    "Calculated energies and values from neighbor model matched according to pattern type. \n",
    "The enegies are normalized relative to the \"nm\" type (spin 0)."
   ]
  },
  {
   "cell_type": "code",
   "execution_count": 275,
   "metadata": {},
   "outputs": [],
   "source": [
    "model_matrix = qe_energies \\\n",
    "    .assign(energy = lambda x:\n",
    "        (x[\"total_energy\"] -\n",
    "         np.float64(x.query(\"pattern == 'nm'\").loc[:, \"total_energy\"])) *\n",
    "        1000 * units.Ha_to_eV / x[\"num_sites\"])  \\\n",
    "    .merge(exchange_model, on=[\"pattern\"]) \\\n",
    "    .query(\"pattern != 'nm'\") \\\n",
    "    .assign(J1 = lambda x: x[\"J1_MnMn\"]) \\\n",
    "    .assign(J2 = lambda x: x[\"J2_MnMn\"]) \\\n",
    "    .assign(J3 = lambda x: x[\"J3_MnMn\"]) \\\n",
    "    .assign(J4 = lambda x: x[\"J4_MnMn\"]) \\\n",
    "    .loc[:, [\"pattern\", \"energy\", \"J1\", \"J2\", \"J3\", \"J4\"]]\n",
    "\n",
    "\n",
    "#model_matrix"
   ]
  },
  {
   "cell_type": "markdown",
   "metadata": {},
   "source": [
    "### Fitting to get final parameters:\n",
    "\n",
    "Final matrix of energies and exchange model is used in a fit function to get the values of the J parameters.\n",
    "2 results are compared, and values are in units of Rydberg."
   ]
  },
  {
   "cell_type": "code",
   "execution_count": 276,
   "metadata": {},
   "outputs": [],
   "source": [
    "smf_exchange_fit = smf.ols(data=model_matrix, formula=\"energy ~ J1 + J2 + J3 + J4\").fit()\n",
    "smf_exchange_parameters = pd.DataFrame(smf_exchange_fit.params, columns=[\"stats_models\"])\n",
    "#smf_exchange_parameters"
   ]
  },
  {
   "cell_type": "code",
   "execution_count": 277,
   "metadata": {},
   "outputs": [],
   "source": [
    "lm = LinearRegression()\n",
    "lm_exchange_fit = lm.fit(X=model_matrix[[\"J1\", \"J2\", \"J3\", \"J4\"]], y=model_matrix[\"energy\"])\n",
    "lm_exchange_parameters = pd.DataFrame({\n",
    "    \"sklearn\": [lm_exchange_fit.intercept_, \n",
    "                lm_exchange_fit.coef_[0], lm_exchange_fit.coef_[1],lm_exchange_fit.coef_[2],lm_exchange_fit.coef_[3]]},\n",
    "    index=[\"Intercept\", \"J1\", \"J2\", \"J3\", \"J4\"],\n",
    ")\n",
    "#lm_exchange_parameters"
   ]
  },
  {
   "cell_type": "code",
   "execution_count": 278,
   "metadata": {},
   "outputs": [
    {
     "data": {
      "text/html": [
       "<div>\n",
       "<style scoped>\n",
       "    .dataframe tbody tr th:only-of-type {\n",
       "        vertical-align: middle;\n",
       "    }\n",
       "\n",
       "    .dataframe tbody tr th {\n",
       "        vertical-align: top;\n",
       "    }\n",
       "\n",
       "    .dataframe thead th {\n",
       "        text-align: right;\n",
       "    }\n",
       "</style>\n",
       "<table border=\"0\" class=\"dataframe\">\n",
       "  <thead>\n",
       "    <tr style=\"text-align: left;\">\n",
       "      <th></th>\n",
       "      <th>stats_models</th>\n",
       "      <th>sklearn</th>\n",
       "    </tr>\n",
       "  </thead>\n",
       "  <tbody>\n",
       "    <tr>\n",
       "      <th>Intercept</th>\n",
       "      <td>-3951.055077</td>\n",
       "      <td>-3951.055077</td>\n",
       "    </tr>\n",
       "    <tr>\n",
       "      <th>J1</th>\n",
       "      <td>-20.935496</td>\n",
       "      <td>-20.935496</td>\n",
       "    </tr>\n",
       "    <tr>\n",
       "      <th>J2</th>\n",
       "      <td>-28.385814</td>\n",
       "      <td>-28.385814</td>\n",
       "    </tr>\n",
       "    <tr>\n",
       "      <th>J3</th>\n",
       "      <td>7.135843</td>\n",
       "      <td>7.135843</td>\n",
       "    </tr>\n",
       "    <tr>\n",
       "      <th>J4</th>\n",
       "      <td>-20.935496</td>\n",
       "      <td>-20.935496</td>\n",
       "    </tr>\n",
       "  </tbody>\n",
       "</table>\n",
       "</div>"
      ],
      "text/plain": [
       "           stats_models  sklearn    \n",
       "Intercept -3951.055077  -3951.055077\n",
       "J1          -20.935496    -20.935496\n",
       "J2          -28.385814    -28.385814\n",
       "J3            7.135843      7.135843\n",
       "J4          -20.935496    -20.935496"
      ]
     },
     "execution_count": 278,
     "metadata": {},
     "output_type": "execute_result"
    }
   ],
   "source": [
    "exchange_parameters = pd.concat([smf_exchange_parameters,lm_exchange_parameters], axis=1)\n",
    "#save to file    \n",
    "exchange_parameters.to_csv(\"data/mnau2_exchange_parameters.200.txt\", sep=' ')\n",
    "    \n",
    "\n",
    "exchange_parameters"
   ]
  },
  {
   "cell_type": "code",
   "execution_count": null,
   "metadata": {
    "collapsed": true
   },
   "outputs": [],
   "source": []
  }
 ],
 "metadata": {
  "kernelspec": {
   "display_name": "Python 3",
   "language": "python",
   "name": "python3"
  },
  "language_info": {
   "codemirror_mode": {
    "name": "ipython",
    "version": 3
   },
   "file_extension": ".py",
   "mimetype": "text/x-python",
   "name": "python",
   "nbconvert_exporter": "python",
   "pygments_lexer": "ipython3",
   "version": "3.6.1"
  }
 },
 "nbformat": 4,
 "nbformat_minor": 2
}
