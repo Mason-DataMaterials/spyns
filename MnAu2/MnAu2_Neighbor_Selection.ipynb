{
 "cells": [
  {
   "cell_type": "code",
   "execution_count": 69,
   "metadata": {
    "collapsed": true
   },
   "outputs": [],
   "source": [
    "from pathlib import Path\n",
    "from sys import stdout\n",
    "import numpy as np\n",
    "import pandas as pd\n",
    "import itertools\n",
    "from pymatgen import units\n",
    "from pymatgen.transformations.standard_transformations import SupercellTransformation\n",
    "import sympy\n",
    "from scipy.constants import Boltzmann, electron_volt\n",
    "from sympy import symbols\n",
    "from sympy.vector import CoordSys3D\n",
    "\n",
    "import statsmodels.formula.api as smf\n",
    "from sklearn.linear_model import LinearRegression\n",
    "\n",
    "\n",
    "from ruamel.yaml import YAML\n",
    "yaml = YAML()\n",
    "\n",
    "from neighbormodels.structure import from_file\n",
    "from neighbormodels.neighbors import count_neighbors\n",
    "from neighbormodels.interactions import build_model\n",
    "\n",
    "kB = 1000 * Boltzmann / electron_volt\n",
    "\n",
    "pd.set_option(\"display.colheader_justify\", \"left\")\n",
    "pd.set_option(\"display.html.border\", 0)\n",
    "html_table_style = {\"selector\": \"th\", \"props\": [(\"text-align\", \"left\")]}"
   ]
  },
  {
   "cell_type": "code",
   "execution_count": 74,
   "metadata": {},
   "outputs": [
    {
     "name": "stderr",
     "output_type": "stream",
     "text": [
      "/home/ssilayi/anaconda3/lib/python3.6/site-packages/pymatgen/core/lattice.py:694: FutureWarning: `rcond` parameter will change to the default of machine precision times ``max(M, N)`` where M and N are the input matrix dimensions.\n",
      "To use the future default and silence this warning we advise to pass `rcond=None`, to keep using the old, explicitly pass `rcond=-1`.\n",
      "  result = np.linalg.lstsq(q.T, p.T)[0].T\n"
     ]
    }
   ],
   "source": [
    "cif_filepath1 = \"data/mn8au16_collinear.cif\"\n",
    "cif_filepath2 = \"data/mn8au16_1x1x4.cif\"\n",
    "structure_mnau2_c = from_file(structure_file=cif_filepath1)\n",
    "structure_mnau2_z = from_file(structure_file=cif_filepath2)\n",
    "\n",
    "def pattern_tables( layer, p_type):\n",
    "    n_row, n_column = layer.shape\n",
    "    au_layer = pd.DataFrame(np.zeros((2,n_column)))\n",
    "    patterns = pd.concat([ layer[0:1],au_layer,\n",
    "                           layer[1:2],au_layer,\n",
    "                           layer[2:3],au_layer,\n",
    "                           layer[3:4],au_layer,\n",
    "                           layer[4:5],au_layer,\n",
    "                           layer[5:6],au_layer,\n",
    "                           layer[6:7],au_layer,\n",
    "                           layer[7:8],au_layer], ignore_index=True)\n",
    "    \n",
    "    p_types =[]\n",
    "    p_types.append(\"nm\")\n",
    "    index = np.arange(1,len(patterns.columns))\n",
    "    for i in index:\n",
    "        p_types.append(p_type+str(i))\n",
    "    patterns.columns = p_types\n",
    "    \n",
    "    return patterns\n",
    "\n",
    "def pattern_model(pattern_structure, pattern_mg):\n",
    "    pattern_neighbor_data = count_neighbors(cell_structure=pattern_structure, r=8.8)\n",
    "    exchange_model = build_model(magnetic_patterns=pattern_mg, neighbor_data=pattern_neighbor_data)\n",
    "    #drop the Au atoms\n",
    "    exchange_model = exchange_model[exchange_model.columns.drop(list(exchange_model.filter(regex='Au')))]\n",
    "    \n",
    "    return exchange_model\n"
   ]
  },
  {
   "cell_type": "code",
   "execution_count": 120,
   "metadata": {},
   "outputs": [
    {
     "data": {
      "text/plain": [
       "pandas.core.series.Series"
      ]
     },
     "execution_count": 120,
     "metadata": {},
     "output_type": "execute_result"
    }
   ],
   "source": [
    "c_layer=pd.read_csv('data/mg_collinear_patterns', header=None)\n",
    "c_patterns = pattern_tables( c_layer, \"c-\")\n",
    "\n",
    "neighbor_data = count_neighbors(cell_structure=structure_mnau2_c, r=17.6)\n",
    "a = neighbor_data.data_frame \\\n",
    "    .merge(neighbor_data.data_frame.rename(columns={\"j\": \"i\", \"i\": \"j\"}), how=\"outer\") \\\n",
    "    .sort_values([\"i\",\"distance_bin\", \"j\"]) \\\n",
    "     .query(\"subspecies_i != 'Au'\")\\\n",
    "        .query(\"subspecies_j != 'Au'\")\\\n",
    "    .reset_index(drop=True)\n",
    "\n",
    "type(a.distance_bin)"
   ]
  },
  {
   "cell_type": "code",
   "execution_count": null,
   "metadata": {
    "collapsed": true
   },
   "outputs": [],
   "source": []
  }
 ],
 "metadata": {
  "kernelspec": {
   "display_name": "Python 3",
   "language": "python",
   "name": "python3"
  },
  "language_info": {
   "codemirror_mode": {
    "name": "ipython",
    "version": 3
   },
   "file_extension": ".py",
   "mimetype": "text/x-python",
   "name": "python",
   "nbconvert_exporter": "python",
   "pygments_lexer": "ipython3",
   "version": "3.6.1"
  }
 },
 "nbformat": 4,
 "nbformat_minor": 2
}
