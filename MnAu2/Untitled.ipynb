{
 "cells": [
  {
   "cell_type": "code",
   "execution_count": 1,
   "metadata": {
    "collapsed": true
   },
   "outputs": [],
   "source": [
    "from pathlib import Path\n",
    "from sys import stdout\n",
    "import numpy as np\n",
    "import pandas as pd\n",
    "import itertools\n",
    "from pymatgen import units\n",
    "from pymatgen.transformations.standard_transformations import SupercellTransformation\n",
    "import sympy\n",
    "from scipy.constants import Boltzmann, electron_volt\n",
    "from sympy import symbols\n",
    "from sympy.vector import CoordSys3D\n",
    "\n",
    "import statsmodels.formula.api as smf\n",
    "from sklearn.linear_model import LinearRegression\n",
    "\n",
    "\n",
    "from ruamel.yaml import YAML\n",
    "yaml = YAML()\n",
    "\n",
    "from neighbormodels.structure import from_file\n",
    "from neighbormodels.neighbors import count_neighbors\n",
    "from neighbormodels.interactions import build_model\n",
    "\n",
    "kB = 1000 * Boltzmann / electron_volt\n",
    "\n",
    "pd.set_option(\"display.colheader_justify\", \"left\")\n",
    "pd.set_option(\"display.html.border\", 0)\n",
    "html_table_style = {\"selector\": \"th\", \"props\": [(\"text-align\", \"left\")]}"
   ]
  },
  {
   "cell_type": "code",
   "execution_count": 2,
   "metadata": {},
   "outputs": [
    {
     "name": "stdout",
     "output_type": "stream",
     "text": [
      "Full Formula (Mn2 Au4)\n",
      "Reduced Formula: MnAu2\n",
      "abc   :   3.394839   3.394839   8.880636\n",
      "angles:  90.000000  90.000000  90.000000\n",
      "Sites (6)\n",
      "  #  SP      a    b         c\n",
      "---  ----  ---  ---  --------\n",
      "  0  Mn    0    0    0\n",
      "  1  Au    0.5  0.5  0.840319\n",
      "  2  Au    0.5  0.5  0.159681\n",
      "  3  Mn    0.5  0.5  0.5\n",
      "  4  Au    0    0    0.340319\n",
      "  5  Au    0    0    0.659681\n"
     ]
    }
   ],
   "source": [
    "cif_filepath = \"data/mnau2-6.cif\"\n",
    "structure_mnau26 = from_file(structure_file=cif_filepath)\n",
    "print(structure_mnau26)"
   ]
  },
  {
   "cell_type": "code",
   "execution_count": 16,
   "metadata": {},
   "outputs": [
    {
     "name": "stdout",
     "output_type": "stream",
     "text": [
      "Full Formula (Mn8 Au16)\n",
      "Reduced Formula: MnAu2\n",
      "abc   :   3.394839   3.394839  35.522546\n",
      "angles:  90.000000  90.000000  90.000000\n",
      "Sites (24)\n",
      "  #  SP      a    b        c\n",
      "---  ----  ---  ---  -------\n",
      "  0  Mn    0    0    0\n",
      "  1  Mn    0    0    0.25\n",
      "  2  Mn    0    0    0.5\n",
      "  3  Mn    0    0    0.75\n",
      "  4  Au    0.5  0.5  0.21008\n",
      "  5  Au    0.5  0.5  0.46008\n",
      "  6  Au    0.5  0.5  0.71008\n",
      "  7  Au    0.5  0.5  0.96008\n",
      "  8  Au    0.5  0.5  0.03992\n",
      "  9  Au    0.5  0.5  0.28992\n",
      " 10  Au    0.5  0.5  0.53992\n",
      " 11  Au    0.5  0.5  0.78992\n",
      " 12  Mn    0.5  0.5  0.125\n",
      " 13  Mn    0.5  0.5  0.375\n",
      " 14  Mn    0.5  0.5  0.625\n",
      " 15  Mn    0.5  0.5  0.875\n",
      " 16  Au    0    0    0.08508\n",
      " 17  Au    0    0    0.33508\n",
      " 18  Au    0    0    0.58508\n",
      " 19  Au    0    0    0.83508\n",
      " 20  Au    0    0    0.16492\n",
      " 21  Au    0    0    0.41492\n",
      " 22  Au    0    0    0.66492\n",
      " 23  Au    0    0    0.91492\n"
     ]
    }
   ],
   "source": [
    "structure_mnau2_z = structure_mnau26.copy()\n",
    "structure_mnau2_z.make_supercell([1,1,4])\n",
    "structure_mnau2_z.to(filename=\"data/mnau2-z.cif\")\n",
    "print(structure_mnau2_z)"
   ]
  },
  {
   "cell_type": "code",
   "execution_count": 12,
   "metadata": {},
   "outputs": [],
   "source": [
    "#structure_mnau2_z_Cell = structure_mnau2_z.copy()\n",
    "#structure_mnau2_z_Cell.make_supercell([4,4,1])\n",
    "#structure_mnau2_z_Cell.to(filename=\"data/mnau2-z_Cell.cif\")\n",
    "#print(structure_mnau2_z_Cell)"
   ]
  },
  {
   "cell_type": "code",
   "execution_count": 14,
   "metadata": {},
   "outputs": [
    {
     "data": {
      "text/plain": [
       "[(1, 1), (1, -1), (-1, 1), (-1, -1)]"
      ]
     },
     "execution_count": 14,
     "metadata": {},
     "output_type": "execute_result"
    }
   ],
   "source": [
    "patterns = list(itertools.product([1,-1], repeat=2))\n",
    "patterns"
   ]
  },
  {
   "cell_type": "code",
   "execution_count": null,
   "metadata": {
    "collapsed": true
   },
   "outputs": [],
   "source": []
  }
 ],
 "metadata": {
  "kernelspec": {
   "display_name": "Python 3",
   "language": "python",
   "name": "python3"
  },
  "language_info": {
   "codemirror_mode": {
    "name": "ipython",
    "version": 3
   },
   "file_extension": ".py",
   "mimetype": "text/x-python",
   "name": "python",
   "nbconvert_exporter": "python",
   "pygments_lexer": "ipython3",
   "version": "3.6.1"
  }
 },
 "nbformat": 4,
 "nbformat_minor": 2
}
