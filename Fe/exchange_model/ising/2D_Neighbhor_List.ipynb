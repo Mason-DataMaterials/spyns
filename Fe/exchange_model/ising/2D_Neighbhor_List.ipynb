{
 "cells": [
  {
   "cell_type": "code",
   "execution_count": 1,
   "metadata": {},
   "outputs": [],
   "source": [
    "from pathlib import Path\n",
    "from sys import stdout\n",
    "import numpy as np\n",
    "import pandas as pd\n",
    "\n",
    "from pymatgen.transformations.standard_transformations import SupercellTransformation\n",
    "\n",
    "from neighbormodels.structure import from_file\n",
    "from neighbormodels.neighbors import count_neighbors\n",
    "from neighbormodels.interactions import build_model\n",
    "\n",
    "import os"
   ]
  },
  {
   "cell_type": "markdown",
   "metadata": {},
   "source": [
    "## Short script to generate neighbor list for a 2D grid"
   ]
  },
  {
   "cell_type": "code",
   "execution_count": 2,
   "metadata": {},
   "outputs": [],
   "source": [
    "n=20\n",
    "grid = np.ones((n,n))\n",
    "n_sites = n*n\n",
    "sites = []\n",
    "i= 0\n",
    "for x in range(n):\n",
    "    for y in range (n):\n",
    "        sites.append([x,y])\n",
    "        i+=1\n",
    "        \n",
    "nn_mat = []\n",
    "for i in range (n):\n",
    "    for j in range(n):\n",
    "        nn_mat.append(([ [i,(j-1)%n],[i, (j+1)%n], [(i+1)%n, j], [(i-1)%n, j ] ]))\n",
    "\n",
    "nn_list = np.zeros((n*n*4))\n",
    "s = 0\n",
    "for i in range(n*n):\n",
    "    for j in range (4):\n",
    "        for k in range (n*n):\n",
    "            if nn_mat[i][j] == sites[k]:\n",
    "                nn_list[s] = k\n",
    "                #print(s, int(nn_list[s]), k)\n",
    "                s+=1\n",
    "                break  \n",
    "                "
   ]
  },
  {
   "cell_type": "code",
   "execution_count": 5,
   "metadata": {},
   "outputs": [],
   "source": [
    "filename = os.getcwd()+'/neighbor_lists_2d.txt'\n",
    "\n",
    "n_sites = np.array([n*n])\n",
    "n_count = np.array([4,0])\n",
    "#np.savetxt(filename,n_sites,fmt='%d' )\n",
    "#np.savetxt(filename,neighbor_count,fmt='%d' )\n",
    "f=open(filename,'w')\n",
    "#with open(filename,\"w\") as f:\n",
    "f.write(\"\\n\".join(\" \".join(map(str, x)) for x in (n_sites,n_count)))\n",
    "#f.write(\"\\n\")\n",
    "#f.write(str(neighbor_indices))\n",
    "#f.close()\n",
    "#f=open(filename,'a')\n",
    "np.savetxt(filename, nn_list,fmt='%d')\n",
    "f.close()\n"
   ]
  },
  {
   "cell_type": "code",
   "execution_count": null,
   "metadata": {},
   "outputs": [],
   "source": []
  }
 ],
 "metadata": {
  "kernelspec": {
   "display_name": "Python 3",
   "language": "python",
   "name": "python3"
  },
  "language_info": {
   "codemirror_mode": {
    "name": "ipython",
    "version": 3
   },
   "file_extension": ".py",
   "mimetype": "text/x-python",
   "name": "python",
   "nbconvert_exporter": "python",
   "pygments_lexer": "ipython3",
   "version": "3.7.0"
  }
 },
 "nbformat": 4,
 "nbformat_minor": 2
}
