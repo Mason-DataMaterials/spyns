{
 "cells": [
  {
   "cell_type": "code",
   "execution_count": 1,
   "metadata": {},
   "outputs": [],
   "source": [
    "from pathlib import Path\n",
    "from sys import stdout\n",
    "\n",
    "import numpy as np\n",
    "import pandas as pd\n",
    "\n",
    "import ipywidgets as wg\n",
    "from IPython.display import display\n",
    "%matplotlib inline\n",
    "import matplotlib.pyplot as plt"
   ]
  },
  {
   "cell_type": "code",
   "execution_count": 5,
   "metadata": {},
   "outputs": [],
   "source": [
    "def distribution_heisenberg( nsites, temp, frame, el, nbins):\n",
    "    m_snaps = np.loadtxt(str(nsites)+\"/m_\"+str(temp)+\".txt\")\n",
    "    x,y = np.shape(m_snaps)\n",
    "    snaps = {}\n",
    "    i = 0\n",
    "    for s in range (int(x/nsites)):\n",
    "        snaps[s] = pd.DataFrame(m_snaps[i:i+nsites, 1: ], columns=[\"theta\", \"phi\", \"x\", \"y\", \"z\"] )\n",
    "        i=i+nsites\n",
    "    plt.title(str(el)+\": N=\"+str(nsites)+\", T=\"+str(temp))    \n",
    "    plt.xlabel(str(el))\n",
    "    plt.ylabel(\"Freq\")\n",
    "    plt.hist(snaps[frame][el], bins= nbins)\n",
    "    plt.show()\n",
    "    \n",
    "    return"
   ]
  },
  {
   "cell_type": "code",
   "execution_count": 6,
   "metadata": {
    "scrolled": true
   },
   "outputs": [
    {
     "data": {
      "application/vnd.jupyter.widget-view+json": {
       "model_id": "f68a4d66dc2f435a87a9c4b73a90ec39",
       "version_major": 2,
       "version_minor": 0
      },
      "text/plain": [
       "interactive(children=(Dropdown(description='num_sites', options=(2048,), value=2048), IntSlider(value=0, descr…"
      ]
     },
     "metadata": {},
     "output_type": "display_data"
    },
    {
     "data": {
      "text/plain": [
       "<function __main__.distribution_heisenberg(nsites, temp, frame, el, nbins)>"
      ]
     },
     "execution_count": 6,
     "metadata": {},
     "output_type": "execute_result"
    }
   ],
   "source": [
    "nsitesI = wg.Dropdown(options=[2048], description=\"num_sites\")\n",
    "tempI = wg.IntSlider(min=0, max=1400, step =20, description=\"temp:\")\n",
    "framesI = wg.IntSlider(min=0, max=249, step =1, description=\"frame:\")\n",
    "elI = wg.Dropdown(options=[\"phi\",\"theta\",\"x\",\"y\",\"z\"], description= \"element:\")\n",
    "nbinsI = wg.IntSlider(min=20, max=50, step =5, description=\"num_bins:\")\n",
    "\n",
    "wg.interact(distribution_heisenberg, nsites=nsitesI, temp=tempI, frame=framesI, el=elI, nbins=nbinsI)"
   ]
  },
  {
   "cell_type": "code",
   "execution_count": null,
   "metadata": {},
   "outputs": [],
   "source": [
    "def distribution_ising( nsites, temp, frame, nbins, el=\"s\"):\n",
    "    m_snaps = np.loadtxt(str(nsites)+\"/conf_\"+str(temp)+\".txt\")\n",
    "    x,y = np.shape(m_snaps)\n",
    "    snaps = {}\n",
    "    i = 0\n",
    "    for s in range (int(x/nsites)):\n",
    "        snaps[s] = pd.DataFrame(m_snaps[i:i+nsites, 1: ], columns=[\"s\"] )\n",
    "        i=i+nsites\n",
    "    plt.title(str(el)+\": N=\"+str(nsites)+\", T=\"+str(temp))    \n",
    "    plt.xlabel(str(el))\n",
    "    plt.ylabel(\"Freq\")\n",
    "    plt.hist(snaps[frame][el], bins= nbins)\n",
    "    plt.show()\n",
    "    \n",
    "    return"
   ]
  },
  {
   "cell_type": "code",
   "execution_count": null,
   "metadata": {},
   "outputs": [],
   "source": [
    "nsitesI = wg.Dropdown(options=[2048], description=\"num_sites\")\n",
    "tempI = wg.IntSlider(min=1, max=5.5, step =0.5, description=\"temp:\")\n",
    "framesI = wg.IntSlider(min=0, max=0, step =1, description=\"frame:\")\n",
    "\n",
    "nbinsI = wg.IntSlider(min=20, max=50, step =5, description=\"num_bins:\")\n",
    "\n",
    "wg.interact(distribution_heisenberg, nsites=nsitesI, temp=tempI, frame=framesI, nbins=nbinsI)"
   ]
  },
  {
   "cell_type": "code",
   "execution_count": null,
   "metadata": {},
   "outputs": [],
   "source": []
  },
  {
   "cell_type": "code",
   "execution_count": null,
   "metadata": {},
   "outputs": [],
   "source": []
  },
  {
   "cell_type": "code",
   "execution_count": null,
   "metadata": {},
   "outputs": [],
   "source": []
  }
 ],
 "metadata": {
  "kernelspec": {
   "display_name": "Python 3",
   "language": "python",
   "name": "python3"
  },
  "language_info": {
   "codemirror_mode": {
    "name": "ipython",
    "version": 3
   },
   "file_extension": ".py",
   "mimetype": "text/x-python",
   "name": "python",
   "nbconvert_exporter": "python",
   "pygments_lexer": "ipython3",
   "version": "3.7.0"
  }
 },
 "nbformat": 4,
 "nbformat_minor": 2
}
