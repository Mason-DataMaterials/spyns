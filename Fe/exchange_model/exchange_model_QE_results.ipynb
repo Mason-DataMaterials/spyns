{
 "cells": [
  {
   "cell_type": "code",
   "execution_count": 4,
   "metadata": {},
   "outputs": [],
   "source": [
    "from pathlib import Path\n",
    "from sys import stdout\n",
    "\n",
    "import numpy as np\n",
    "import pandas as pd\n",
    "import statsmodels.formula.api as smf\n",
    "import sympy\n",
    "from scipy.constants import Boltzmann, electron_volt\n",
    "from sympy import symbols\n",
    "from sympy.vector import CoordSys3D\n",
    "from pymatgen import units\n",
    "from pymatgen.transformations.standard_transformations import SupercellTransformation\n",
    "from ruamel.yaml import YAML\n",
    "from sklearn.linear_model import LinearRegression\n",
    "\n",
    "from neighbormodels.structure import from_file\n",
    "from neighbormodels.neighbors import count_neighbors\n",
    "from neighbormodels.interactions import build_model\n",
    "\n",
    "pd.set_option(\"display.colheader_justify\", \"left\")\n",
    "pd.set_option(\"display.html.border\", 0)\n",
    "html_table_style = {\"selector\": \"th\", \"props\": [(\"text-align\", \"left\")]}\n",
    "yaml = YAML()\n",
    "\n",
    "kB = 1000 * Boltzmann / electron_volt"
   ]
  },
  {
   "cell_type": "code",
   "execution_count": 6,
   "metadata": {},
   "outputs": [],
   "source": [
    "fe_cif_filepath = \"data/fe.cif\"\n",
    "fe_structure_2atom = from_file(structure_file=fe_cif_filepath)\n",
    "rotate_cell_45_degrees = SupercellTransformation(\n",
    "    scaling_matrix=[[1, 1, 0],\n",
    "                    [1, -1, 0],\n",
    "                    [0, 0, 1]],\n",
    ")\n",
    "fe_structure_4atom = rotate_cell_45_degrees.apply_transformation(fe_structure_2atom)\n",
    "\n",
    "fe_magnetic_patterns = yaml.load(Path(\"data/fe_magnetic_patterns.yml\"))"
   ]
  },
  {
   "cell_type": "code",
   "execution_count": 7,
   "metadata": {},
   "outputs": [],
   "source": [
    "fe_neighbor_data = count_neighbors(cell_structure=fe_structure_4atom, r=3)\n",
    "fe_exchange_model = build_model(magnetic_patterns=fe_magnetic_patterns[\"4atoms\"], neighbor_data=fe_neighbor_data)"
   ]
  },
  {
   "cell_type": "code",
   "execution_count": 8,
   "metadata": {},
   "outputs": [
    {
     "data": {
      "text/html": [
       "<div>\n",
       "<style scoped>\n",
       "    .dataframe tbody tr th:only-of-type {\n",
       "        vertical-align: middle;\n",
       "    }\n",
       "\n",
       "    .dataframe tbody tr th {\n",
       "        vertical-align: top;\n",
       "    }\n",
       "\n",
       "    .dataframe thead th {\n",
       "        text-align: right;\n",
       "    }\n",
       "</style>\n",
       "<table border=\"0\" class=\"dataframe\">\n",
       "  <thead>\n",
       "    <tr style=\"text-align: left;\">\n",
       "      <th></th>\n",
       "      <th>pattern</th>\n",
       "      <th>J1</th>\n",
       "      <th>J2</th>\n",
       "    </tr>\n",
       "  </thead>\n",
       "  <tbody>\n",
       "    <tr>\n",
       "      <th>0</th>\n",
       "      <td>a-type</td>\n",
       "      <td>-8.0</td>\n",
       "      <td>6.0</td>\n",
       "    </tr>\n",
       "    <tr>\n",
       "      <th>1</th>\n",
       "      <td>f-type</td>\n",
       "      <td>8.0</td>\n",
       "      <td>6.0</td>\n",
       "    </tr>\n",
       "    <tr>\n",
       "      <th>2</th>\n",
       "      <td>g-type</td>\n",
       "      <td>0.0</td>\n",
       "      <td>-2.0</td>\n",
       "    </tr>\n",
       "    <tr>\n",
       "      <th>3</th>\n",
       "      <td>nm</td>\n",
       "      <td>0.0</td>\n",
       "      <td>0.0</td>\n",
       "    </tr>\n",
       "  </tbody>\n",
       "</table>\n",
       "</div>"
      ],
      "text/plain": [
       "  pattern  J1   J2 \n",
       "0  a-type -8.0  6.0\n",
       "1  f-type  8.0  6.0\n",
       "2  g-type  0.0 -2.0\n",
       "3      nm  0.0  0.0"
      ]
     },
     "execution_count": 8,
     "metadata": {},
     "output_type": "execute_result"
    }
   ],
   "source": [
    "fe_exchange_model"
   ]
  },
  {
   "cell_type": "code",
   "execution_count": 19,
   "metadata": {},
   "outputs": [
    {
     "data": {
      "text/html": [
       "<div>\n",
       "<style scoped>\n",
       "    .dataframe tbody tr th:only-of-type {\n",
       "        vertical-align: middle;\n",
       "    }\n",
       "\n",
       "    .dataframe tbody tr th {\n",
       "        vertical-align: top;\n",
       "    }\n",
       "\n",
       "    .dataframe thead th {\n",
       "        text-align: right;\n",
       "    }\n",
       "</style>\n",
       "<table border=\"0\" class=\"dataframe\">\n",
       "  <thead>\n",
       "    <tr style=\"text-align: left;\">\n",
       "      <th></th>\n",
       "      <th>pattern</th>\n",
       "      <th>num_sites</th>\n",
       "      <th>total_energy</th>\n",
       "    </tr>\n",
       "  </thead>\n",
       "  <tbody>\n",
       "    <tr>\n",
       "      <th>0</th>\n",
       "      <td>nm</td>\n",
       "      <td>4</td>\n",
       "      <td>-1315.548748</td>\n",
       "    </tr>\n",
       "    <tr>\n",
       "      <th>1</th>\n",
       "      <td>f-type</td>\n",
       "      <td>4</td>\n",
       "      <td>-1315.550599</td>\n",
       "    </tr>\n",
       "    <tr>\n",
       "      <th>2</th>\n",
       "      <td>a-type</td>\n",
       "      <td>4</td>\n",
       "      <td>-1315.579499</td>\n",
       "    </tr>\n",
       "    <tr>\n",
       "      <th>3</th>\n",
       "      <td>g-type</td>\n",
       "      <td>4</td>\n",
       "      <td>-1315.578555</td>\n",
       "    </tr>\n",
       "  </tbody>\n",
       "</table>\n",
       "</div>"
      ],
      "text/plain": [
       "  pattern  num_sites  total_energy\n",
       "0      nm  4         -1315.548748 \n",
       "1  f-type  4         -1315.550599 \n",
       "2  a-type  4         -1315.579499 \n",
       "3  g-type  4         -1315.578555 "
      ]
     },
     "execution_count": 19,
     "metadata": {},
     "output_type": "execute_result"
    }
   ],
   "source": [
    "fe_dft_energies = pd.read_csv(filepath_or_buffer=\"data/fe_qe_energies.csv\") \n",
    "fe_dft_energies"
   ]
  },
  {
   "cell_type": "code",
   "execution_count": 21,
   "metadata": {},
   "outputs": [
    {
     "data": {
      "text/html": [
       "<div>\n",
       "<style scoped>\n",
       "    .dataframe tbody tr th:only-of-type {\n",
       "        vertical-align: middle;\n",
       "    }\n",
       "\n",
       "    .dataframe tbody tr th {\n",
       "        vertical-align: top;\n",
       "    }\n",
       "\n",
       "    .dataframe thead th {\n",
       "        text-align: right;\n",
       "    }\n",
       "</style>\n",
       "<table border=\"0\" class=\"dataframe\">\n",
       "  <thead>\n",
       "    <tr style=\"text-align: left;\">\n",
       "      <th></th>\n",
       "      <th>pattern</th>\n",
       "      <th>energy</th>\n",
       "      <th>J1</th>\n",
       "      <th>J2</th>\n",
       "    </tr>\n",
       "  </thead>\n",
       "  <tbody>\n",
       "    <tr>\n",
       "      <th>1</th>\n",
       "      <td>f-type</td>\n",
       "      <td>-12.594790</td>\n",
       "      <td>8.0</td>\n",
       "      <td>6.0</td>\n",
       "    </tr>\n",
       "    <tr>\n",
       "      <th>2</th>\n",
       "      <td>a-type</td>\n",
       "      <td>-209.193789</td>\n",
       "      <td>-8.0</td>\n",
       "      <td>6.0</td>\n",
       "    </tr>\n",
       "    <tr>\n",
       "      <th>3</th>\n",
       "      <td>g-type</td>\n",
       "      <td>-202.772446</td>\n",
       "      <td>0.0</td>\n",
       "      <td>-2.0</td>\n",
       "    </tr>\n",
       "  </tbody>\n",
       "</table>\n",
       "</div>"
      ],
      "text/plain": [
       "  pattern  energy      J1   J2 \n",
       "1  f-type  -12.594790  8.0  6.0\n",
       "2  a-type -209.193789 -8.0  6.0\n",
       "3  g-type -202.772446  0.0 -2.0"
      ]
     },
     "execution_count": 21,
     "metadata": {},
     "output_type": "execute_result"
    }
   ],
   "source": [
    "fe_model_matrix = fe_dft_energies \\\n",
    "    .assign(energy = lambda x:\n",
    "        (x[\"total_energy\"] -\n",
    "         np.float64(x.query(\"pattern == 'nm'\").loc[:, \"total_energy\"])) *\n",
    "        1000 * units.Ha_to_eV / x[\"num_sites\"]) \\\n",
    "    .merge(fe_exchange_model, on=[\"pattern\"]) \\\n",
    "    .query(\"pattern != 'nm'\") \\\n",
    "    .assign(J1 = lambda x: x[\"J1\"]) \\\n",
    "    .assign(J2 = lambda x: x[\"J2\"]) \\\n",
    "    .loc[:, [\"pattern\", \"energy\", \"J1\", \"J2\"]]\n",
    "fe_model_matrix"
   ]
  },
  {
   "cell_type": "code",
   "execution_count": 22,
   "metadata": {},
   "outputs": [],
   "source": [
    "smf_exchange_fit = smf.ols(data=fe_model_matrix, formula=\"energy ~ J1 + J2\").fit()\n",
    "smf_exchange_parameters = pd.DataFrame(smf_exchange_fit.params, columns=[\"statsmodels\"])"
   ]
  },
  {
   "cell_type": "code",
   "execution_count": 23,
   "metadata": {},
   "outputs": [],
   "source": [
    "lm = LinearRegression()\n",
    "lm_exchange_fit = lm.fit(X=fe_model_matrix[[\"J1\", \"J2\"]], y=fe_model_matrix[\"energy\"])\n",
    "lm_exchange_parameters = pd.DataFrame({\n",
    "    \"sklearn\": [lm_exchange_fit.intercept_, lm_exchange_fit.coef_[0], lm_exchange_fit.coef_[1]]},\n",
    "    index=[\"Intercept\", \"J1\", \"J2\"],\n",
    ")"
   ]
  },
  {
   "cell_type": "code",
   "execution_count": 24,
   "metadata": {},
   "outputs": [
    {
     "data": {
      "text/html": [
       "<style  type=\"text/css\" >\n",
       "    #T_17689594_b787_11e8_a8b7_4949fba75dfb  {\n",
       "    }    #T_17689594_b787_11e8_a8b7_4949fba75dfb  {\n",
       "    }</style>  \n",
       "<table id=\"T_17689594_b787_11e8_a8b7_4949fba75dfb\" > \n",
       "<thead>    <tr> \n",
       "        <th class=\"col_heading level0 col0\" >parameter</th> \n",
       "        <th class=\"col_heading level0 col1\" >statsmodels</th> \n",
       "        <th class=\"col_heading level0 col2\" >sklearn</th> \n",
       "    </tr></thead> \n",
       "<tbody>    <tr> \n",
       "        <td id=\"T_17689594_b787_11e8_a8b7_4949fba75dfbrow0_col0\" class=\"data row0 col0\" >Intercept</td> \n",
       "        <td id=\"T_17689594_b787_11e8_a8b7_4949fba75dfbrow0_col1\" class=\"data row0 col1\" >-179.803</td> \n",
       "        <td id=\"T_17689594_b787_11e8_a8b7_4949fba75dfbrow0_col2\" class=\"data row0 col2\" >-179.803</td> \n",
       "    </tr>    <tr> \n",
       "        <td id=\"T_17689594_b787_11e8_a8b7_4949fba75dfbrow1_col0\" class=\"data row1 col0\" >J1</td> \n",
       "        <td id=\"T_17689594_b787_11e8_a8b7_4949fba75dfbrow1_col1\" class=\"data row1 col1\" >12.2874</td> \n",
       "        <td id=\"T_17689594_b787_11e8_a8b7_4949fba75dfbrow1_col2\" class=\"data row1 col2\" >12.2874</td> \n",
       "    </tr>    <tr> \n",
       "        <td id=\"T_17689594_b787_11e8_a8b7_4949fba75dfbrow2_col0\" class=\"data row2 col0\" >J2</td> \n",
       "        <td id=\"T_17689594_b787_11e8_a8b7_4949fba75dfbrow2_col1\" class=\"data row2 col1\" >11.4848</td> \n",
       "        <td id=\"T_17689594_b787_11e8_a8b7_4949fba75dfbrow2_col2\" class=\"data row2 col2\" >11.4848</td> \n",
       "    </tr></tbody> \n",
       "</table> "
      ],
      "text/plain": [
       "<pandas.io.formats.style.Styler at 0x7f8ef81bb6d8>"
      ]
     },
     "execution_count": 24,
     "metadata": {},
     "output_type": "execute_result"
    }
   ],
   "source": [
    "smf_exchange_parameters \\\n",
    "    .join(lm_exchange_parameters) \\\n",
    "    .reset_index() \\\n",
    "    .rename({\"index\": \"parameter\"}, axis=1) \\\n",
    "    .style.set_table_styles(html_table_style) \\\n",
    "    .hide_index()"
   ]
  },
  {
   "cell_type": "code",
   "execution_count": null,
   "metadata": {},
   "outputs": [],
   "source": []
  }
 ],
 "metadata": {
  "kernelspec": {
   "display_name": "Python 3",
   "language": "python",
   "name": "python3"
  },
  "language_info": {
   "codemirror_mode": {
    "name": "ipython",
    "version": 3
   },
   "file_extension": ".py",
   "mimetype": "text/x-python",
   "name": "python",
   "nbconvert_exporter": "python",
   "pygments_lexer": "ipython3",
   "version": "3.7.0"
  }
 },
 "nbformat": 4,
 "nbformat_minor": 2
}
