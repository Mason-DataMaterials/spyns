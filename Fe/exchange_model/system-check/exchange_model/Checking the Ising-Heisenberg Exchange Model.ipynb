{
 "cells": [
  {
   "cell_type": "code",
   "execution_count": 11,
   "metadata": {
    "collapsed": true
   },
   "outputs": [],
   "source": [
    "from pathlib import Path\n",
    "from sys import stdout\n",
    "\n",
    "import numpy as np\n",
    "import pandas as pd\n",
    "\n",
    "import ipywidgets as wg\n",
    "from IPython.display import display\n",
    "%matplotlib inline\n",
    "import matplotlib.pyplot as plt"
   ]
  },
  {
   "cell_type": "markdown",
   "metadata": {},
   "source": [
    "# 2D Grid Results with 4 nearest neighbors on the Ising Model"
   ]
  },
  {
   "cell_type": "markdown",
   "metadata": {},
   "source": [
    "2D neighbor lists of N = 900, 1600, 2500 and 3600 are generated and run for the Ising model with J = 1. \n",
    "Results show the predicted Tc at around T = 2.2. \n",
    "\n",
    "![alt text](data/2d900/ising_M.png \"Title\")![alt text](data/2d900/ising_X.png \"Title\")"
   ]
  },
  {
   "cell_type": "code",
   "execution_count": null,
   "metadata": {
    "collapsed": true
   },
   "outputs": [],
   "source": []
  },
  {
   "cell_type": "markdown",
   "metadata": {},
   "source": [
    "Running: Next we extend to the 3D case, generating neighbor lists for N = 500 (2048 and 4000) and run using the \n",
    "same Ising model and parameters. In the first case, we have J1 = 2.0 and J2 = 0.2 In the second case, we set J1 = 2.0 and J2 = 0.0 and check the Tc for both cases."
   ]
  },
  {
   "cell_type": "code",
   "execution_count": null,
   "metadata": {
    "collapsed": true
   },
   "outputs": [],
   "source": []
  },
  {
   "cell_type": "markdown",
   "metadata": {},
   "source": [
    "To do : Before using the same in the Heisenberg Model, we first conduct some checks to ensure the initial points \n",
    "are evenly distributed if set on the surface of a sphere. Then the z-factor is restricted to either +1 or -1 and \n",
    "the system run for the various fcc 3D grid sizes ( I rewrote a number of things in the code to cerrect this).\n",
    "![alt text](data/hinit/z_start.png \"Title\")\n",
    "![alt text](data/hinit/z_distr.png \"Title\")\n",
    "![alt text](data/hinit/z_limit.png \"Title\")\n"
   ]
  },
  {
   "cell_type": "code",
   "execution_count": null,
   "metadata": {
    "collapsed": true
   },
   "outputs": [],
   "source": []
  },
  {
   "cell_type": "markdown",
   "metadata": {},
   "source": [
    "To do: The z-factor is released and the system run with 2 sets of parameters:\n",
    "    - for the first case of J2 = 0.1J1 with final values in reduced units of J\n",
    "    - for the second case of J1 = 18.2, J2 = 10.3 meV\n",
    " *The system runs taking the final configuration as the start configuration for the new temperature step."
   ]
  },
  {
   "cell_type": "code",
   "execution_count": null,
   "metadata": {
    "collapsed": true
   },
   "outputs": [],
   "source": []
  },
  {
   "cell_type": "code",
   "execution_count": null,
   "metadata": {
    "collapsed": true
   },
   "outputs": [],
   "source": []
  }
 ],
 "metadata": {
  "kernelspec": {
   "display_name": "Python 3",
   "language": "python",
   "name": "python3"
  },
  "language_info": {
   "codemirror_mode": {
    "name": "ipython",
    "version": 3
   },
   "file_extension": ".py",
   "mimetype": "text/x-python",
   "name": "python",
   "nbconvert_exporter": "python",
   "pygments_lexer": "ipython3",
   "version": "3.6.1"
  }
 },
 "nbformat": 4,
 "nbformat_minor": 2
}
