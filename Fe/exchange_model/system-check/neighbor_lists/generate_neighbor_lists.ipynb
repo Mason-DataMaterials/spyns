{
 "cells": [
  {
   "cell_type": "code",
   "execution_count": 10,
   "metadata": {},
   "outputs": [],
   "source": [
    "from pathlib import Path\n",
    "from sys import stdout\n",
    "import numpy as np\n",
    "import pandas as pd\n",
    "\n",
    "from pymatgen.transformations.standard_transformations import SupercellTransformation\n",
    "\n",
    "from neighbormodels.structure import from_file\n",
    "from neighbormodels.neighbors import count_neighbors\n",
    "from neighbormodels.interactions import build_model\n",
    "\n",
    "import os\n",
    "#os.getcwd()\n",
    "#os.chdir('data')"
   ]
  },
  {
   "cell_type": "code",
   "execution_count": 11,
   "metadata": {},
   "outputs": [
    {
     "name": "stdout",
     "output_type": "stream",
     "text": [
      "Full Formula (Fe4)\n",
      "Reduced Formula: Fe\n",
      "abc   :   4.053843   4.053843   2.866500\n",
      "angles:  90.000000  90.000000  90.000000\n",
      "Sites (4)\n",
      "  #  SP      a    b     c\n",
      "---  ----  ---  ---  ----\n",
      "  0  Fe    0    0     0\n",
      "  1  Fe    0.5  0.5  -0\n",
      "  2  Fe    0.5  0     0.5\n",
      "  3  Fe    1    0.5   0.5\n"
     ]
    }
   ],
   "source": [
    "fe_cif_filepath = \"data/fe.cif\"\n",
    "fe_structure_2atom = from_file(structure_file=fe_cif_filepath)\n",
    "rotate_cell_45_degrees = SupercellTransformation(\n",
    "    scaling_matrix=[[1, 1, 0],\n",
    "                    [1, -1, 0],\n",
    "                    [0, 0, 1]],\n",
    ")\n",
    "fe_structure_4atom = rotate_cell_45_degrees.apply_transformation(fe_structure_2atom)\n",
    "print(fe_structure_4atom)"
   ]
  },
  {
   "cell_type": "markdown",
   "metadata": {},
   "source": [
    "Use the 4 atom basis to generate the n = NxNxN supercell configuration. \n",
    "The neighbor information is extracted from the results of *count_neighbors* . The final output is the total number of sites,  4n  , the count of nearest neighbors for each site within the radius, r , and a list of the indices for the nearest neighbors of each site _i_.\n",
    "\n",
    "This information can be used as the input to the Monte Carlo Simulation, together with the calculated exchange parameters. "
   ]
  },
  {
   "cell_type": "code",
   "execution_count": 12,
   "metadata": {},
   "outputs": [],
   "source": [
    "N = 10\n",
    "r = 3\n",
    "fe_structure_supercell = fe_structure_4atom.copy()\n",
    "fe_structure_supercell.make_supercell([N,N,N])\n",
    "fe_neighbor_data = count_neighbors(fe_structure_supercell, r)\n",
    "a = fe_neighbor_data.data_frame \\\n",
    "    .merge(fe_neighbor_data.data_frame.rename(columns={\"j\": \"i\", \"i\": \"j\"}), how=\"outer\") \\\n",
    "    .sort_values([\"i\",\"distance_bin\", \"j\"]) \\\n",
    "    .loc[:, [\"i\", \"j\", \"distance_bin\"]] \\\n",
    "    .reset_index(drop=True)"
   ]
  },
  {
   "cell_type": "code",
   "execution_count": 13,
   "metadata": {},
   "outputs": [],
   "source": [
    "neighbors_per_site = a.groupby([\"i\"]).count().reset_index().rename(columns={\"j\": \"count\"}).loc[:, \"count\"].values\n",
    "sites_per_distance_group = a.groupby([\"i\", \"distance_bin\"]).count().reset_index() \\\n",
    "                            .rename(columns={\"j\": \"count\"}).loc[:, \"count\"].values\n",
    "neighbor_indices = a[\"j\"].values"
   ]
  },
  {
   "cell_type": "code",
   "execution_count": 14,
   "metadata": {},
   "outputs": [],
   "source": [
    "#neighbor_count, n_indices = np.unique(sites_per_distance_group, return_index=True)\n",
    "neighbor_count = np.dstack ( np.unique(sites_per_distance_group, return_index=True) )    \n",
    "neighbor_count.dtype = np.dtype([('v', neighbor_count.dtype), ('i', neighbor_count.dtype)])\n",
    "neighbor_count.sort(order='i', axis=1)\n",
    "neighbor_count = neighbor_count.flatten()['v'].tolist()"
   ]
  },
  {
   "cell_type": "markdown",
   "metadata": {},
   "source": [
    "To be used in the MC simulation:"
   ]
  },
  {
   "cell_type": "code",
   "execution_count": 15,
   "metadata": {},
   "outputs": [
    {
     "name": "stdout",
     "output_type": "stream",
     "text": [
      "Number of sites: 4000\n",
      "Number of 1st and 2nd neighbors for each index i: [8, 6]\n",
      "Neighbor indices sorted over index i and distances:  [2000 2009 2900 ... 2999 3990 3998]\n"
     ]
    }
   ],
   "source": [
    "print(\"Number of sites:\", 4*N*N*N)\n",
    "print(\"Number of 1st and 2nd neighbors for each index i:\", neighbor_count)\n",
    "print(\"Neighbor indices sorted over index i and distances: \", neighbor_indices)"
   ]
  },
  {
   "cell_type": "code",
   "execution_count": 16,
   "metadata": {},
   "outputs": [],
   "source": [
    "filename = os.getcwd()+'/neighbor_lists.txt'\n",
    "\n",
    "n_sites = np.array([4*N*N*N])\n",
    "#np.savetxt(filename,n_sites,fmt='%d' )\n",
    "#np.savetxt(filename,neighbor_count,fmt='%d' )\n",
    "f=open(filename,'w')\n",
    "#with open(filename,\"w\") as f:\n",
    "f.write(\"\\n\".join(\" \".join(map(str, x)) for x in (n_sites,neighbor_count)))\n",
    "#f.write(\"\\n\")\n",
    "#f.write(str(neighbor_indices))\n",
    "#f.close()\n",
    "#f=open(filename,'a')\n",
    "np.savetxt(filename, neighbor_indices,fmt='%d')\n",
    "f.close()\n"
   ]
  },
  {
   "cell_type": "code",
   "execution_count": 17,
   "metadata": {},
   "outputs": [],
   "source": [
    "#os.getcwd()\n",
    "#os.chdir('/home/ssilayi/Projects/spyns/Fe/exchange_model')"
   ]
  },
  {
   "cell_type": "code",
   "execution_count": null,
   "metadata": {},
   "outputs": [],
   "source": []
  },
  {
   "cell_type": "code",
   "execution_count": null,
   "metadata": {},
   "outputs": [],
   "source": []
  }
 ],
 "metadata": {
  "kernelspec": {
   "display_name": "Python 3",
   "language": "python",
   "name": "python3"
  },
  "language_info": {
   "codemirror_mode": {
    "name": "ipython",
    "version": 3
   },
   "file_extension": ".py",
   "mimetype": "text/x-python",
   "name": "python",
   "nbconvert_exporter": "python",
   "pygments_lexer": "ipython3",
   "version": "3.7.0"
  }
 },
 "nbformat": 4,
 "nbformat_minor": 2
}
