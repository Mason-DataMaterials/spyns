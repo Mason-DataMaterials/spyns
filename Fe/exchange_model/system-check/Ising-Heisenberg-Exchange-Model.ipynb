{
 "cells": [
  {
   "cell_type": "code",
   "execution_count": 4,
   "metadata": {
    "collapsed": true
   },
   "outputs": [],
   "source": [
    "from pathlib import Path\n",
    "from sys import stdout"
   ]
  },
  {
   "cell_type": "markdown",
   "metadata": {},
   "source": [
    "### Comparing 2D Grid Results with 4 nearest neighbors on the Ising Model and ising-like Heisenberg Model"
   ]
  },
  {
   "cell_type": "markdown",
   "metadata": {},
   "source": [
    "2D neighbor lists of N = 2500 are generated and run for the Ising model with J = 1. \n",
    "Results show the predicted Tc at around T = 2.2. \n",
    "\n",
    "![alt text](data/ising-2D/Plots/ising_M.png \"Title\")\n",
    "![alt text](data/ising-2D/Plots/ising_X.png \"Title\")"
   ]
  },
  {
   "cell_type": "markdown",
   "metadata": {
    "collapsed": true
   },
   "source": [
    "Moving to the Heisenberg model, we first check that the initial distribution of generated \\theta and \\phi angles result in \n",
    "ana even distribution of points on the surface of a sphere:\n",
    "![alt text](data/hinit/z_distr.png \"Title\")"
   ]
  },
  {
   "cell_type": "markdown",
   "metadata": {},
   "source": [
    "The z value is then restricted to z = 1 and z =-1 for the initialization:\n",
    "![alt text](data/hinit/z_limit.png \"Title\")\n",
    "And we run the 2D case with J = 1 and compare the results to the Ising model results.\n",
    "Ising-like Heisenberg Model with z = -1, 1  for N=2500 (currently running for increased number of iterations to reduce variance) :\n",
    "\n",
    "![alt text](data/heisenberg-2D/Plots/heisenberg_M.png \"Title\")\n",
    "![alt text](data/heisenberg-2D/Plots/heisenberg_X.png \"Title\")\n"
   ]
  },
  {
   "cell_type": "markdown",
   "metadata": {
    "collapsed": true
   },
   "source": [
    "Comparing the results from the two runs, they both give the expected T_c = 2.2 value.\n",
    "The results were scaled for comparison purposes :\n",
    "![alt text](data/ih_x.png \"Title\")"
   ]
  },
  {
   "cell_type": "markdown",
   "metadata": {},
   "source": [
    "### Checking the Heisenberg Model "
   ]
  },
  {
   "cell_type": "markdown",
   "metadata": {},
   "source": [
    "Next we extend to the 3D case, using parameters from the first paper[1].\n",
    "Some details:\n",
    "    - the paper models an fcc structure of N = 4000 atoms using a Heisenberg MC Simulation\n",
    "    - they use values of J_2 = 0.1 J_1 and consider the first 2 nearest neighbor interactions\n",
    "    - their T_c is observed at T_(reduced) = 0.47 J_1kB\n",
    "    - this coresponds to a reported value of T_c = 982 K\n",
    "Using this information, and taking kB = 0.0000063306 Ry/K, we can get an approximation of the J values they used:"
   ]
  },
  {
   "cell_type": "code",
   "execution_count": 7,
   "metadata": {},
   "outputs": [
    {
     "data": {
      "text/plain": [
       "(0.013226913191489362, 0.0013226913191489364)"
      ]
     },
     "execution_count": 7,
     "metadata": {},
     "output_type": "execute_result"
    }
   ],
   "source": [
    "kB = 0.0000063306\n",
    "Tc = 982\n",
    "J_1 = (Tc*kB)/0.47\n",
    "J_2 = 0.1*J_1\n",
    "J_1, J_2"
   ]
  },
  {
   "cell_type": "markdown",
   "metadata": {},
   "source": [
    "The system was run for sizes N = 500, 2048 taking J_1 = 0.01 and J_2 = 0.001 as a check. \n",
    "Currently running for N = 4000 with J_1 = 0.013 and J_2 = 0.0013. They report taking 20000 MC steps per spin.\n",
    "With these values, we get for N = 500:\n",
    "    \n",
    "![alt text](data/rep-1/500/Plots/energyvstemp.png \"Title\")\n",
    "\n",
    "\n",
    "and for N = 2048:\n",
    "\n",
    "![alt text](data/rep-1/2048/Plots/energyvstemp.png \"Title\")\n",
    "\n",
    "for the paper they had :\n",
    "![alt text](data/rep-1/p1evt.png \"Title\")\n",
    "\n",
    "The program was modified to run taking the previous final configuration as the starting point for a new temperature value calculation for the case of N = 4000 to better approximate the process in the paper[1]."
   ]
  },
  {
   "cell_type": "markdown",
   "metadata": {},
   "source": [
    "Checking: \n",
    "For the second paper[2], the system is bcc (8, then 6 irst nearest neighbors) and uses J1 = 18.2, J2 = 10.3 meV\n",
    "Coverting to Rydberg:\n",
    " J_1 = 0.0013376783591 Ry\n",
    " J_2 = 0.000757037752675 Ry\n",
    " \n",
    "*These values are an order of magnitude lower than the values in the other paper*  \n",
    "\n",
    "\n",
    "With N = 1024\n",
    "![alt text](data/rep-2/1024/Plots/heisenberg_M.png \"Title\")\n",
    "![alt text](data/rep-2/1024/Plots/heisenberg_X.png \"Title\")\n",
    "\n"
   ]
  },
  {
   "cell_type": "code",
   "execution_count": null,
   "metadata": {
    "collapsed": true
   },
   "outputs": [],
   "source": []
  },
  {
   "cell_type": "markdown",
   "metadata": {
    "collapsed": true
   },
   "source": [
    "### References:"
   ]
  },
  {
   "cell_type": "markdown",
   "metadata": {
    "collapsed": true
   },
   "source": [
    "[1] Giebultowicz, T. M., & Furdyna, J. K. (1985).\n",
    "    Monte Carlo simulation of fcc Heisenberg antiferromagnet with nearest‐and next‐nearest‐neighbor interactions. \n",
    "    Journal of Applied Physics, 57(8), 3312-3314.\n",
    "    \n",
    "[2] Tao, X., Landau, D. P., Schulthess, T. C., & Stocks, G. M. (2005). \n",
    "    Spin waves in paramagnetic bcc iron: spin dynamics simulations. \n",
    "    Physical review letters, 95(8), 087207.   "
   ]
  },
  {
   "cell_type": "code",
   "execution_count": null,
   "metadata": {
    "collapsed": true
   },
   "outputs": [],
   "source": []
  }
 ],
 "metadata": {
  "kernelspec": {
   "display_name": "Python 3",
   "language": "python",
   "name": "python3"
  },
  "language_info": {
   "codemirror_mode": {
    "name": "ipython",
    "version": 3
   },
   "file_extension": ".py",
   "mimetype": "text/x-python",
   "name": "python",
   "nbconvert_exporter": "python",
   "pygments_lexer": "ipython3",
   "version": "3.6.1"
  }
 },
 "nbformat": 4,
 "nbformat_minor": 2
}
