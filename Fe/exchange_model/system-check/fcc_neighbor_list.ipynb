{
 "cells": [
  {
   "cell_type": "code",
   "execution_count": 1,
   "metadata": {},
   "outputs": [],
   "source": [
    "from pathlib import Path\n",
    "from sys import stdout\n",
    "import numpy as np\n",
    "import pandas as pd\n",
    "\n",
    "from pymatgen.transformations.standard_transformations import SupercellTransformation\n",
    "\n",
    "from neighbormodels.structure import from_file\n",
    "from neighbormodels.neighbors import count_neighbors\n",
    "from neighbormodels.interactions import build_model\n",
    "\n",
    "import os"
   ]
  },
  {
   "cell_type": "code",
   "execution_count": 10,
   "metadata": {},
   "outputs": [
    {
     "name": "stdout",
     "output_type": "stream",
     "text": [
      "Full Formula (Fe4)\n",
      "Reduced Formula: Fe\n",
      "abc   :   3.614910   3.614910   3.614910\n",
      "angles:  90.000000  90.000000  90.000000\n",
      "Sites (4)\n",
      "  #  SP      a    b    c\n",
      "---  ----  ---  ---  ---\n",
      "  0  Fe    0    0    0\n",
      "  1  Fe    0    0.5  0.5\n",
      "  2  Fe    0.5  0    0.5\n",
      "  3  Fe    0.5  0.5  0\n"
     ]
    }
   ],
   "source": [
    "fcc_filepath = \"data/a1-fcc.cif\"\n",
    "fe_structure_fcc = from_file(structure_file=fcc_filepath)\n",
    "fe_structure_fcc[:] =\"Fe\" \n",
    "print(fe_structure_fcc)"
   ]
  },
  {
   "cell_type": "code",
   "execution_count": 17,
   "metadata": {},
   "outputs": [
    {
     "name": "stdout",
     "output_type": "stream",
     "text": [
      "Number of sites: 500\n",
      "Number of 1st and 2nd neighbors for each index i: [12, 6]\n",
      "Neighbor indices sorted over index i and distances:  [125 129 145 ... 494 495 498]\n"
     ]
    }
   ],
   "source": [
    "N = 5\n",
    "r = 4\n",
    "fe_structure_supercell = fe_structure_fcc.copy()\n",
    "fe_structure_supercell.make_supercell([N,N,N])\n",
    "fe_neighbor_data = count_neighbors(fe_structure_supercell, r)\n",
    "a = fe_neighbor_data.data_frame \\\n",
    "    .merge(fe_neighbor_data.data_frame.rename(columns={\"j\": \"i\", \"i\": \"j\"}), how=\"outer\") \\\n",
    "    .sort_values([\"i\",\"distance_bin\", \"j\"]) \\\n",
    "    .loc[:, [\"i\", \"j\", \"distance_bin\"]] \\\n",
    "    .reset_index(drop=True)\n",
    "\n",
    "neighbors_per_site = a.groupby([\"i\"]).count().reset_index().rename(columns={\"j\": \"count\"}).loc[:, \"count\"].values\n",
    "sites_per_distance_group = a.groupby([\"i\", \"distance_bin\"]).count().reset_index() \\\n",
    "                            .rename(columns={\"j\": \"count\"}).loc[:, \"count\"].values\n",
    "neighbor_indices = a[\"j\"].values\n",
    "\n",
    "\n",
    "neighbor_count = np.dstack ( np.unique(sites_per_distance_group, return_index=True) )    \n",
    "neighbor_count.dtype = np.dtype([('v', neighbor_count.dtype), ('i', neighbor_count.dtype)])\n",
    "neighbor_count.sort(order='i', axis=1)\n",
    "neighbor_count = neighbor_count.flatten()['v'].tolist()\n",
    "\n",
    "print(\"Number of sites:\", 4*N*N*N)\n",
    "print(\"Number of 1st and 2nd neighbors for each index i:\", neighbor_count)\n",
    "print(\"Neighbor indices sorted over index i and distances: \", neighbor_indices)"
   ]
  },
  {
   "cell_type": "code",
   "execution_count": 18,
   "metadata": {},
   "outputs": [],
   "source": [
    "filename = os.getcwd()+'/neighbor_lists.txt'\n",
    "\n",
    "n_sites = np.array([4*N*N*N])\n",
    "f=open(filename,'w')\n",
    "f.write(\"\\n\".join(\" \".join(map(str, x)) for x in (n_sites,neighbor_count)))\n",
    "np.savetxt(filename, neighbor_indices,fmt='%d')\n",
    "f.close()"
   ]
  },
  {
   "cell_type": "code",
   "execution_count": null,
   "metadata": {},
   "outputs": [],
   "source": []
  }
 ],
 "metadata": {
  "kernelspec": {
   "display_name": "Python 3",
   "language": "python",
   "name": "python3"
  },
  "language_info": {
   "codemirror_mode": {
    "name": "ipython",
    "version": 3
   },
   "file_extension": ".py",
   "mimetype": "text/x-python",
   "name": "python",
   "nbconvert_exporter": "python",
   "pygments_lexer": "ipython3",
   "version": "3.7.0"
  }
 },
 "nbformat": 4,
 "nbformat_minor": 2
}
