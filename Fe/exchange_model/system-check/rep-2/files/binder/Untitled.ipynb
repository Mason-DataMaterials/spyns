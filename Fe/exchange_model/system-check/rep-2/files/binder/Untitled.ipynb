{
 "cells": [
  {
   "cell_type": "code",
   "execution_count": 1,
   "metadata": {
    "collapsed": true
   },
   "outputs": [],
   "source": [
    "import os, sys\n",
    "import numpy as np\n",
    "import matplotlib.pyplot as plt"
   ]
  },
  {
   "cell_type": "code",
   "execution_count": 2,
   "metadata": {
    "collapsed": true
   },
   "outputs": [],
   "source": [
    "d1024=np.loadtxt(\"m.1024\")\n",
    "d1458=np.loadtxt(\"m.1458\")\n",
    "d2000=np.loadtxt(\"m.2000\")\n",
    "d3456=np.loadtxt(\"m.3456\")"
   ]
  },
  {
   "cell_type": "code",
   "execution_count": 37,
   "metadata": {},
   "outputs": [
    {
     "data": {
      "text/plain": [
       "(array([ 0.66666667,  0.66666569,  0.66664481,  0.66664197,  0.66654712,\n",
       "         0.66651707,  0.66625294,  0.66561023,  0.66601595,  0.41839004,\n",
       "         0.44047516,  0.43070841,  0.43626416,  0.37254938,  0.4356869 ,\n",
       "         0.35708887,  0.48933549,  0.47174239,  0.4342333 ,  0.37580554,\n",
       "         0.45487697,  0.45411062,  0.47032465,  0.46695774,  0.47256547,\n",
       "         0.38172027,  0.49614086,  0.50859658,  0.44956078]),\n",
       " array([ 0.66666667,  0.66666673,  0.66666405,  0.66665551,  0.66660342,\n",
       "         0.66661017,  0.6665799 ,  0.66588156,  0.66539601,  0.48075501,\n",
       "         0.51520442,  0.52001917,  0.41069382,  0.36530522,  0.5036898 ,\n",
       "         0.48748763,  0.53437236,  0.36897275,  0.42833667,  0.55880171,\n",
       "         0.41510489,  0.41893985,  0.44337621,  0.44047084,  0.48808972,\n",
       "         0.35256914,  0.47804872,  0.459607  ,  0.45680645]))"
      ]
     },
     "execution_count": 37,
     "metadata": {},
     "output_type": "execute_result"
    }
   ],
   "source": [
    "m = np.zeros((len(d1024), 4))\n",
    "m2 = np.zeros((len(d1024), 4))\n",
    "m4 = np.zeros((len(d1024), 4))\n",
    "m[:,0] =d1024[:,1]\n",
    "m[:,1]=d1458[:,1]\n",
    "m[:,2]=d2000[:,1]\n",
    "m[:,3]=d3456[:,1] \n",
    "\n",
    "m2[:,0] =d1024[:,3]\n",
    "m2[:,1]=d1458[:,3]\n",
    "m2[:,2]=d2000[:,3]\n",
    "m2[:,3]=d3456[:,3] \n",
    "\n",
    "m4[:,0] =d1024[:,5]\n",
    "m4[:,1]=d1458[:,5]\n",
    "m4[:,2]=d2000[:,5]\n",
    "m4[:,3]=d3456[:,5] \n",
    "\n",
    "t= d1024[:,0]\n",
    "\n",
    "b0 = 1.0 -  ( (m4[:,0]/(m2[:,0]*m2[:,0]))/3.0 )\n",
    "b1 = 1.0 -  ( (m4[:,1]/(m2[:,1]*m2[:,1]))/3.0 )\n",
    "b2 = 1.0 -  ( (m4[:,2]/(m2[:,2]*m2[:,2]))/3.0 )\n",
    "b3 = 1.0 -  ( (m4[:,3]/(m2[:,3]*m2[:,3]))/3.0 )\n",
    "b0, b1"
   ]
  },
  {
   "cell_type": "code",
   "execution_count": 23,
   "metadata": {},
   "outputs": [
    {
     "data": {
      "image/png": "[encoded data removed]",
      "text/plain": [
       "<matplotlib.figure.Figure at 0x7f75f8b6c978>"
      ]
     },
     "metadata": {},
     "output_type": "display_data"
    }
   ],
   "source": [
    "plt.plot(t, b[:,0])\n",
    "plt.plot(t, b[:,1])\n",
    "plt.plot(t, b[:,2])\n",
    "plt.plot(t, b[:,3])\n",
    "plt.show()"
   ]
  },
  {
   "cell_type": "code",
   "execution_count": 42,
   "metadata": {},
   "outputs": [
    {
     "data": {
      "text/plain": [
       "42.90333333333333"
      ]
     },
     "execution_count": 42,
     "metadata": {},
     "output_type": "execute_result"
    }
   ],
   "source": [
    "(184.64*3 - 425.21)/3"
   ]
  },
  {
   "cell_type": "code",
   "execution_count": 43,
   "metadata": {},
   "outputs": [
    {
     "data": {
      "text/plain": [
       "382.31"
      ]
     },
     "execution_count": 43,
     "metadata": {},
     "output_type": "execute_result"
    }
   ],
   "source": [
    "425.21 - 42.90"
   ]
  },
  {
   "cell_type": "code",
   "execution_count": null,
   "metadata": {
    "collapsed": true
   },
   "outputs": [],
   "source": []
  }
 ],
 "metadata": {
  "kernelspec": {
   "display_name": "Python 3",
   "language": "python",
   "name": "python3"
  },
  "language_info": {
   "codemirror_mode": {
    "name": "ipython",
    "version": 3
   },
   "file_extension": ".py",
   "mimetype": "text/x-python",
   "name": "python",
   "nbconvert_exporter": "python",
   "pygments_lexer": "ipython3",
   "version": "3.6.1"
  }
 },
 "nbformat": 4,
 "nbformat_minor": 2
}
