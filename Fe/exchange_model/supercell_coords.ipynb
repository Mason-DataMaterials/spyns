{
 "cells": [
  {
   "cell_type": "code",
   "execution_count": 140,
   "metadata": {},
   "outputs": [],
   "source": [
    "from pathlib import Path\n",
    "from sys import stdout\n",
    "\n",
    "import numpy as np\n",
    "import pandas as pd\n",
    "import statsmodels.formula.api as smf\n",
    "import sympy\n",
    "from scipy.constants import Boltzmann, electron_volt\n",
    "from sympy import symbols\n",
    "from sympy.vector import CoordSys3D\n",
    "from pymatgen import units\n",
    "from pymatgen.transformations.standard_transformations import SupercellTransformation\n",
    "from ruamel.yaml import YAML\n",
    "from sklearn.linear_model import LinearRegression\n",
    "\n",
    "from neighbormodels.structure import from_file\n",
    "from neighbormodels.neighbors import count_neighbors\n",
    "from neighbormodels.interactions import build_model\n",
    "\n",
    "pd.set_option(\"display.colheader_justify\", \"left\")\n",
    "pd.set_option(\"display.html.border\", 0)\n",
    "html_table_style = {\"selector\": \"th\", \"props\": [(\"text-align\", \"left\")]}\n",
    "yaml = YAML()\n",
    "\n",
    "kB = 1000 * Boltzmann / electron_volt\n",
    "\n",
    "import os\n",
    "#os.getcwd()\n",
    "#os.chdir('data')\n",
    "#os.chdir('/home/ssilayi/Projects/spyns/Fe/exchange_model/')\n"
   ]
  },
  {
   "cell_type": "code",
   "execution_count": 18,
   "metadata": {},
   "outputs": [],
   "source": [
    "fe_cif_filepath = \"data/fe.cif\"\n",
    "fe_structure_2atom = from_file(structure_file=fe_cif_filepath)\n",
    "rotate_cell_45_degrees = SupercellTransformation(\n",
    "    scaling_matrix=[[1, 1, 0],\n",
    "                    [1, -1, 0],\n",
    "                    [0, 0, 1]],\n",
    ")\n",
    "fe_structure_4atom = rotate_cell_45_degrees.apply_transformation(fe_structure_2atom)\n",
    "\n",
    "fe_magnetic_patterns = yaml.load(Path(\"data/fe_magnetic_patterns.yml\"))\n",
    "#fe_magnetic_patterns['4atoms']['g-type']"
   ]
  },
  {
   "cell_type": "markdown",
   "metadata": {},
   "source": [
    "### Include magnetic patterns as site properties then generate the supercell with the correct pattern propagated"
   ]
  },
  {
   "cell_type": "code",
   "execution_count": 19,
   "metadata": {},
   "outputs": [],
   "source": [
    "x={}\n",
    "N = 5\n",
    "x['nm'] = fe_magnetic_patterns['4atoms']['nm']\n",
    "x['f-type'] = fe_magnetic_patterns['4atoms']['f-type']\n",
    "x['a-type'] = fe_magnetic_patterns['4atoms']['a-type']\n",
    "x['g-type'] = fe_magnetic_patterns['4atoms']['g-type']\n",
    "fe_new = fe_structure_4atom.copy(x)\n",
    "fe_new.make_supercell([N,N,N])"
   ]
  },
  {
   "cell_type": "code",
   "execution_count": 20,
   "metadata": {
    "scrolled": true
   },
   "outputs": [],
   "source": [
    "fe_supercell = pd.concat([pd.DataFrame(fe_new.cart_coords, columns=[\"x\",\"y\",\"z\"]), \n",
    "                          pd.DataFrame(fe_new.site_properties[\"nm\"], columns=[\"nm\"]) , \n",
    "                          pd.DataFrame(fe_new.site_properties[\"f-type\"], columns=[\"f-type\"]) ,\n",
    "                          pd.DataFrame(fe_new.site_properties[\"a-type\"], columns=[\"a-type\"]) ,\n",
    "                          pd.DataFrame(fe_new.site_properties[\"g-type\"], columns=[\"g-type\"]) ],\n",
    "                          axis=1, )\n",
    "#fe_supercell.style.format('{:.2f}')\n",
    "#fe_supercell"
   ]
  },
  {
   "cell_type": "markdown",
   "metadata": {},
   "source": [
    "### Generate the matrix for neighbor values for each pattern configuration to compare with snap shots from simulation"
   ]
  },
  {
   "cell_type": "code",
   "execution_count": 21,
   "metadata": {},
   "outputs": [],
   "source": [
    "r = 3.0\n",
    "fe_neighbor_data = count_neighbors(fe_new, r)\n",
    "a = fe_neighbor_data.data_frame \\\n",
    "    .merge(fe_neighbor_data.data_frame.rename(columns={\"j\": \"i\", \"i\": \"j\"}), how=\"outer\") \\\n",
    "    .sort_values([\"i\",\"distance_bin\",\"j\"], ascending=True) \\\n",
    "    .loc[:, [\"i\", \"j\", \"distance_bin\"]] \\\n",
    "    .reset_index(drop=True)\n",
    "\n",
    "neighbor_list_matrix = np.reshape(a[\"j\"].values, (len(fe_new), 14))\n",
    "neighbor_list_matrix_nm = neighbor_list_matrix.copy()\n",
    "neighbor_list_matrix_f = neighbor_list_matrix.copy()\n",
    "neighbor_list_matrix_a = neighbor_list_matrix.copy()\n",
    "neighbor_list_matrix_g = neighbor_list_matrix.copy()\n",
    "for i in neighbor_list_matrix_nm:\n",
    "    for j in range(len(i)):\n",
    "        i[j] = fe_supercell[\"nm\"][i[j]]\n",
    "for i in neighbor_list_matrix_f:\n",
    "    for j in range(len(i)):\n",
    "        i[j] = fe_supercell[\"f-type\"][i[j]]\n",
    "for i in neighbor_list_matrix_a:\n",
    "    for j in range(len(i)):\n",
    "        i[j] = fe_supercell[\"a-type\"][i[j]]\n",
    "for i in neighbor_list_matrix_g:\n",
    "    for j in range(len(i)):\n",
    "        i[j] = fe_supercell[\"g-type\"][i[j]]"
   ]
  },
  {
   "cell_type": "code",
   "execution_count": 22,
   "metadata": {},
   "outputs": [],
   "source": [
    "#n_sites = len(fe_supercell)\n",
    "#filename = 'fe_supercell.txt'\n",
    "#f=open(filename,'w')\n",
    "#f.write(str(n_sites)+\"\\n\" )\n",
    "#fe_supercell.to_csv(filename,index=None, mode='a', sep=' ')\n",
    "#f.close()"
   ]
  },
  {
   "cell_type": "code",
   "execution_count": 23,
   "metadata": {},
   "outputs": [],
   "source": [
    "neighbor_val_nm = pd.DataFrame (neighbor_list_matrix_nm,\n",
    "                                  columns=[\"nn-1\",\"nn-1\",\"nn-1\", \"nn-1\", \"nn-1\",\"nn-1\",\"nn-1\",\"nn-1\", \"nn-2\", \"nn-2\", \"nn-2\",\"nn-2\",\"nn-2\",\"nn-2\"])\n",
    "\n",
    "neighbor_val_nm[\"site-val\"] = pd.DataFrame(fe_new.site_properties[\"nm\"], columns=[\"site-val\"])\n",
    "neighbor_val_nm[\"nn1-sum\"] = neighbor_val_nm[\"nn-1\"].sum(axis=1) \n",
    "neighbor_val_nm[\"nn2-sum\"] = neighbor_val_nm[\"nn-2\"].sum(axis=1)\n",
    "\n",
    "order_nm = pd.concat([ neighbor_val_nm[\"site-val\"], neighbor_val_nm[\"nn1-sum\"], neighbor_val_nm[\"nn2-sum\"] ], axis=1 )    \n",
    "order_nm[\"sum_val\"] = order_nm.sum(axis=1)\n",
    "#order_nm\n",
    "#neighbor_val_a"
   ]
  },
  {
   "cell_type": "code",
   "execution_count": 24,
   "metadata": {},
   "outputs": [],
   "source": [
    "neighbor_val_f = pd.DataFrame (neighbor_list_matrix_f,\n",
    "                                  columns=[\"nn-1\",\"nn-1\",\"nn-1\", \"nn-1\", \"nn-1\",\"nn-1\",\"nn-1\",\"nn-1\", \"nn-2\", \"nn-2\", \"nn-2\",\"nn-2\",\"nn-2\",\"nn-2\"])\n",
    "neighbor_val_f[\"site-val\"] = pd.DataFrame(fe_new.site_properties[\"f-type\"], columns=[\"site-val\"])\n",
    "neighbor_val_f[\"nn1-sum\"] = neighbor_val_f[\"nn-1\"].sum(axis=1) \n",
    "neighbor_val_f[\"nn2-sum\"] = neighbor_val_f[\"nn-2\"].sum(axis=1)\n",
    "\n",
    "order_f = pd.concat([ neighbor_val_f[\"site-val\"], neighbor_val_f[\"nn1-sum\"], neighbor_val_f[\"nn2-sum\"] ], axis=1 )    \n",
    "order_f[\"sum_val\"] = order_f.sum(axis=1)\n",
    "#order_f"
   ]
  },
  {
   "cell_type": "code",
   "execution_count": 25,
   "metadata": {},
   "outputs": [],
   "source": [
    "neighbor_val_a = pd.DataFrame (neighbor_list_matrix_a,\n",
    "                                  columns=[\"nn-1\",\"nn-1\",\"nn-1\", \"nn-1\", \"nn-1\",\"nn-1\",\"nn-1\",\"nn-1\", \"nn-2\", \"nn-2\", \"nn-2\",\"nn-2\",\"nn-2\",\"nn-2\"])\n",
    "neighbor_val_a[\"site-val\"] = pd.DataFrame(fe_new.site_properties[\"a-type\"], columns=[\"site-val\"])\n",
    "neighbor_val_a[\"nn1-sum\"] = neighbor_val_a[\"nn-1\"].sum(axis=1) \n",
    "neighbor_val_a[\"nn2-sum\"] = neighbor_val_a[\"nn-2\"].sum(axis=1)\n",
    "\n",
    "order_a = pd.concat([ neighbor_val_a[\"site-val\"], neighbor_val_a[\"nn1-sum\"], neighbor_val_a[\"nn2-sum\"] ], axis=1 )    \n",
    "order_a[\"sum_val\"] = order_a.sum(axis=1)\n",
    "#order_a"
   ]
  },
  {
   "cell_type": "code",
   "execution_count": 136,
   "metadata": {},
   "outputs": [],
   "source": [
    "neighbor_val_g = pd.DataFrame (neighbor_list_matrix_g,\n",
    "                                  columns=[\"nn-1\",\"nn-1\",\"nn-1\", \"nn-1\", \"nn-1\",\"nn-1\",\"nn-1\",\"nn-1\", \"nn-2\", \"nn-2\", \"nn-2\",\"nn-2\",\"nn-2\",\"nn-2\"])\n",
    "neighbor_val_g[\"site-val\"] = pd.DataFrame(fe_new.site_properties[\"g-type\"], columns=[\"site-val\"])\n",
    "neighbor_val_g[\"nn1-sum\"] = neighbor_val_g[\"nn-1\"].sum(axis=1) \n",
    "neighbor_val_g[\"nn2-sum\"] = neighbor_val_g[\"nn-2\"].sum(axis=1)\n",
    "\n",
    "order_g = pd.concat([ neighbor_val_g[\"site-val\"], neighbor_val_g[\"nn1-sum\"], neighbor_val_g[\"nn2-sum\"] ], axis=1 )    \n",
    "order_g[\"sum_val\"] = order_g.sum(axis=1)\n",
    "#order_g\n",
    "#neighbor_val_g[\"nn-1\"]"
   ]
  },
  {
   "cell_type": "markdown",
   "metadata": {},
   "source": [
    "## Read in snapshot from simulation output and compare to values for each pattern"
   ]
  },
  {
   "cell_type": "code",
   "execution_count": 135,
   "metadata": {},
   "outputs": [],
   "source": [
    "nsites = 4*N*N*N\n",
    "m_snaps = np.loadtxt(\"data/m_snap.out\")\n",
    "x,y = np.shape(m_snaps)\n",
    "snaps = {}\n",
    "i = 0\n",
    "for s in range (int(x/nsites)):\n",
    "    snaps[s] = pd.DataFrame(m_snaps[i:i+nsites, 1: ], columns=[\"theta\", \"phi\", \"x\", \"y\", \"z\"] )\n",
    "    i=i+nsites\n",
    "   # print(s, i)\n",
    "#snaps[0]"
   ]
  },
  {
   "cell_type": "code",
   "execution_count": null,
   "metadata": {},
   "outputs": [],
   "source": []
  },
  {
   "cell_type": "code",
   "execution_count": null,
   "metadata": {},
   "outputs": [],
   "source": []
  },
  {
   "cell_type": "markdown",
   "metadata": {},
   "source": [
    "## Binning Theta and Phi angles"
   ]
  },
  {
   "cell_type": "code",
   "execution_count": 137,
   "metadata": {},
   "outputs": [],
   "source": [
    "import plotly.plotly as py\n",
    "import plotly.tools as tls\n",
    "import pylab as plt"
   ]
  },
  {
   "cell_type": "code",
   "execution_count": 139,
   "metadata": {},
   "outputs": [
    {
     "data": {
      "text/plain": [
       "<matplotlib.axes._subplots.AxesSubplot at 0x7f4f88e1a550>"
      ]
     },
     "execution_count": 139,
     "metadata": {},
     "output_type": "execute_result"
    },
    {
     "data": {
      "image/png": "[encoded data removed]",
      "text/plain": [
       "<Figure size 432x288 with 1 Axes>"
      ]
     },
     "metadata": {
      "needs_background": "light"
     },
     "output_type": "display_data"
    }
   ],
   "source": [
    "snaps[30][\"theta\"].plot.hist(bins= 30)"
   ]
  },
  {
   "cell_type": "code",
   "execution_count": 132,
   "metadata": {},
   "outputs": [
    {
     "data": {
      "text/plain": [
       "<matplotlib.axes._subplots.AxesSubplot at 0x7f4f891355c0>"
      ]
     },
     "execution_count": 132,
     "metadata": {},
     "output_type": "execute_result"
    },
    {
     "data": {
      "image/png": "[encoded data removed]",
      "text/plain": [
       "<Figure size 432x288 with 1 Axes>"
      ]
     },
     "metadata": {
      "needs_background": "light"
     },
     "output_type": "display_data"
    }
   ],
   "source": [
    "snaps[22][\"phi\"].plot.hist(bins= 40)"
   ]
  },
  {
   "cell_type": "code",
   "execution_count": 134,
   "metadata": {},
   "outputs": [
    {
     "data": {
      "text/plain": [
       "<matplotlib.axes._subplots.AxesSubplot at 0x7f4f88f61eb8>"
      ]
     },
     "execution_count": 134,
     "metadata": {},
     "output_type": "execute_result"
    },
    {
     "data": {
      "image/png": "[encoded data removed]",
      "text/plain": [
       "<Figure size 432x288 with 1 Axes>"
      ]
     },
     "metadata": {
      "needs_background": "light"
     },
     "output_type": "display_data"
    }
   ],
   "source": [
    "snaps[40][\"z\"].plot.hist(bins= 10)"
   ]
  },
  {
   "cell_type": "code",
   "execution_count": null,
   "metadata": {},
   "outputs": [],
   "source": []
  },
  {
   "cell_type": "code",
   "execution_count": null,
   "metadata": {},
   "outputs": [],
   "source": []
  }
 ],
 "metadata": {
  "kernelspec": {
   "display_name": "Python 3",
   "language": "python",
   "name": "python3"
  },
  "language_info": {
   "codemirror_mode": {
    "name": "ipython",
    "version": 3
   },
   "file_extension": ".py",
   "mimetype": "text/x-python",
   "name": "python",
   "nbconvert_exporter": "python",
   "pygments_lexer": "ipython3",
   "version": "3.7.0"
  }
 },
 "nbformat": 4,
 "nbformat_minor": 2
}
