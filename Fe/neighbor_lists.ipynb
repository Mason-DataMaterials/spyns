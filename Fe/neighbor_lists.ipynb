{
 "cells": [
  {
   "cell_type": "code",
   "execution_count": 1,
   "metadata": {},
   "outputs": [],
   "source": [
    "from pathlib import Path\n",
    "from sys import stdout\n",
    "import numpy as np\n",
    "import pandas as pd\n",
    "import statsmodels.formula.api as smf\n",
    "import sympy\n",
    "from scipy.constants import Boltzmann, electron_volt\n",
    "from sympy import symbols\n",
    "from sympy.vector import CoordSys3D\n",
    "from pymatgen import units\n",
    "from pymatgen.transformations.standard_transformations import SupercellTransformation\n",
    "from ruamel.yaml import YAML\n",
    "from sklearn.linear_model import LinearRegression"
   ]
  },
  {
   "cell_type": "code",
   "execution_count": 2,
   "metadata": {},
   "outputs": [],
   "source": [
    "from neighbormodels.structure import from_file\n",
    "from neighbormodels.neighbors import count_neighbors\n",
    "from neighbormodels.interactions import build_model"
   ]
  },
  {
   "cell_type": "code",
   "execution_count": 3,
   "metadata": {},
   "outputs": [],
   "source": [
    "pd.set_option(\"display.colheader_justify\", \"left\")\n",
    "pd.set_option(\"display.html.border\", 0)\n",
    "html_table_style = {\"selector\": \"th\", \"props\": [(\"text-align\", \"left\")]}\n",
    "yaml = YAML()\n",
    "\n",
    "kB = 1000 * Boltzmann / electron_volt"
   ]
  },
  {
   "cell_type": "code",
   "execution_count": 4,
   "metadata": {},
   "outputs": [
    {
     "name": "stdout",
     "output_type": "stream",
     "text": [
      "Full Formula (Fe4)\n",
      "Reduced Formula: Fe\n",
      "abc   :   4.053843   4.053843   2.866500\n",
      "angles:  90.000000  90.000000  90.000000\n",
      "Sites (4)\n",
      "  #  SP      a    b     c\n",
      "---  ----  ---  ---  ----\n",
      "  0  Fe    0    0     0\n",
      "  1  Fe    0.5  0.5  -0\n",
      "  2  Fe    0.5  0     0.5\n",
      "  3  Fe    1    0.5   0.5\n"
     ]
    }
   ],
   "source": [
    "fe_cif_filepath = \"data/fe.cif\"\n",
    "fe_structure_2atom = from_file(structure_file=fe_cif_filepath)\n",
    "rotate_cell_45_degrees = SupercellTransformation(\n",
    "    scaling_matrix=[[1, 1, 0],\n",
    "                    [1, -1, 0],\n",
    "                    [0, 0, 1]],\n",
    ")\n",
    "fe_structure_4atom = rotate_cell_45_degrees.apply_transformation(fe_structure_2atom)\n",
    "print(fe_structure_4atom)"
   ]
  },
  {
   "cell_type": "code",
   "execution_count": 5,
   "metadata": {},
   "outputs": [
    {
     "data": {
      "text/html": [
       "<style  type=\"text/css\" >\n",
       "    #T_13c07244_b60c_11e8_98cc_61bcd7614ef4  {\n",
       "    }    #T_13c07244_b60c_11e8_98cc_61bcd7614ef4  {\n",
       "    }</style>  \n",
       "<table id=\"T_13c07244_b60c_11e8_98cc_61bcd7614ef4\" > \n",
       "<thead>    <tr> \n",
       "        <th class=\"col_heading level0 col0\" >nm</th> \n",
       "        <th class=\"col_heading level0 col1\" >f-type</th> \n",
       "        <th class=\"col_heading level0 col2\" >a-type</th> \n",
       "        <th class=\"col_heading level0 col3\" >g-type</th> \n",
       "    </tr></thead> \n",
       "<tbody>    <tr> \n",
       "        <td id=\"T_13c07244_b60c_11e8_98cc_61bcd7614ef4row0_col0\" class=\"data row0 col0\" >0</td> \n",
       "        <td id=\"T_13c07244_b60c_11e8_98cc_61bcd7614ef4row0_col1\" class=\"data row0 col1\" >1</td> \n",
       "        <td id=\"T_13c07244_b60c_11e8_98cc_61bcd7614ef4row0_col2\" class=\"data row0 col2\" >1</td> \n",
       "        <td id=\"T_13c07244_b60c_11e8_98cc_61bcd7614ef4row0_col3\" class=\"data row0 col3\" >1</td> \n",
       "    </tr>    <tr> \n",
       "        <td id=\"T_13c07244_b60c_11e8_98cc_61bcd7614ef4row1_col0\" class=\"data row1 col0\" >0</td> \n",
       "        <td id=\"T_13c07244_b60c_11e8_98cc_61bcd7614ef4row1_col1\" class=\"data row1 col1\" >1</td> \n",
       "        <td id=\"T_13c07244_b60c_11e8_98cc_61bcd7614ef4row1_col2\" class=\"data row1 col2\" >1</td> \n",
       "        <td id=\"T_13c07244_b60c_11e8_98cc_61bcd7614ef4row1_col3\" class=\"data row1 col3\" >-1</td> \n",
       "    </tr>    <tr> \n",
       "        <td id=\"T_13c07244_b60c_11e8_98cc_61bcd7614ef4row2_col0\" class=\"data row2 col0\" >0</td> \n",
       "        <td id=\"T_13c07244_b60c_11e8_98cc_61bcd7614ef4row2_col1\" class=\"data row2 col1\" >1</td> \n",
       "        <td id=\"T_13c07244_b60c_11e8_98cc_61bcd7614ef4row2_col2\" class=\"data row2 col2\" >-1</td> \n",
       "        <td id=\"T_13c07244_b60c_11e8_98cc_61bcd7614ef4row2_col3\" class=\"data row2 col3\" >1</td> \n",
       "    </tr>    <tr> \n",
       "        <td id=\"T_13c07244_b60c_11e8_98cc_61bcd7614ef4row3_col0\" class=\"data row3 col0\" >0</td> \n",
       "        <td id=\"T_13c07244_b60c_11e8_98cc_61bcd7614ef4row3_col1\" class=\"data row3 col1\" >1</td> \n",
       "        <td id=\"T_13c07244_b60c_11e8_98cc_61bcd7614ef4row3_col2\" class=\"data row3 col2\" >-1</td> \n",
       "        <td id=\"T_13c07244_b60c_11e8_98cc_61bcd7614ef4row3_col3\" class=\"data row3 col3\" >-1</td> \n",
       "    </tr></tbody> \n",
       "</table> "
      ],
      "text/plain": [
       "<pandas.io.formats.style.Styler at 0x7f6cf2e876d8>"
      ]
     },
     "execution_count": 5,
     "metadata": {},
     "output_type": "execute_result"
    }
   ],
   "source": [
    "fe_magnetic_patterns = yaml.load(Path(\"data/fe_magnetic_patterns.yml\"))\n",
    "pd.DataFrame(fe_magnetic_patterns[\"4atoms\"]).style \\\n",
    "    .set_table_styles(html_table_style) \\\n",
    "    .hide_index()"
   ]
  },
  {
   "cell_type": "code",
   "execution_count": 6,
   "metadata": {},
   "outputs": [],
   "source": [
    "fe_neighbor_data = count_neighbors(cell_structure=fe_structure_4atom, r=3)"
   ]
  },
  {
   "cell_type": "code",
   "execution_count": 7,
   "metadata": {},
   "outputs": [
    {
     "data": {
      "text/plain": [
       "NeighborData(data_frame=   i  j subspecies_i subspecies_j distance_bin                               n\n",
       "0  0  0  Fe           Fe           (2.6744809099740463, 3.0585190900259525]  2\n",
       "1  0  1  Fe           Fe           (2.6744809099740463, 3.0585190900259525]  8\n",
       "2  0  2  Fe           Fe           (1.2412309099740464, 2.6744809099740463]  8\n",
       "3  0  3  Fe           Fe           (1.2412309099740464, 2.6744809099740463]  8\n",
       "4  1  1  Fe           Fe           (2.6744809099740463, 3.0585190900259525]  2\n",
       "5  1  2  Fe           Fe           (1.2412309099740464, 2.6744809099740463]  8\n",
       "6  1  3  Fe           Fe           (1.2412309099740464, 2.6744809099740463]  8\n",
       "7  2  2  Fe           Fe           (2.6744809099740463, 3.0585190900259525]  2\n",
       "8  2  3  Fe           Fe           (2.6744809099740463, 3.0585190900259525]  8\n",
       "9  3  3  Fe           Fe           (2.6744809099740463, 3.0585190900259525]  2, bins_data_frame=                                         distance_bin                               \\\n",
       "(1.2412309099740464, 2.6744809099740463]  (1.2412309099740464, 2.6744809099740463]   \n",
       "(2.6744809099740463, 3.0585190900259525]  (2.6744809099740463, 3.0585190900259525]   \n",
       "\n",
       "                                         distance_ij  \n",
       "(1.2412309099740464, 2.6744809099740463]  2.482462    \n",
       "(2.6744809099740463, 3.0585190900259525]  2.866500    , structure=Structure Summary\n",
       "Lattice\n",
       "    abc : 4.053843176542477 4.053843176542476 2.8665\n",
       " angles : 90.0 90.0 90.0\n",
       " volume : 47.10704195925\n",
       "      A : 2.8665000000000003 2.8665 3.5104500497558877e-16\n",
       "      B : 2.8664999999999994 -2.8665 0.0\n",
       "      C : 0.0 0.0 2.8665\n",
       "PeriodicSite: Fe (0.0000, 0.0000, 0.0000) [0.0000, 0.0000, 0.0000]\n",
       "PeriodicSite: Fe (2.8665, 0.0000, 0.0000) [0.5000, 0.5000, -0.0000]\n",
       "PeriodicSite: Fe (1.4333, 1.4332, 1.4333) [0.5000, 0.0000, 0.5000]\n",
       "PeriodicSite: Fe (4.2997, 1.4333, 1.4333) [1.0000, 0.5000, 0.5000])"
      ]
     },
     "execution_count": 7,
     "metadata": {},
     "output_type": "execute_result"
    }
   ],
   "source": [
    "fe_neighbor_data"
   ]
  },
  {
   "cell_type": "markdown",
   "metadata": {},
   "source": [
    "---\n",
    "\n",
    "## Notes from meeting\n",
    "\n",
    "Below is a more filled in version of the code we discussed during our meeting. This fills in the missing values (i.e., puts back pairs like (1, 0), (2, 1), and so on) and does the sort. I also show how you can get the neighbor counts for each site, and the neighbor counts grouped by index **`j`** and **`distance_bin`**."
   ]
  },
  {
   "cell_type": "code",
   "execution_count": 8,
   "metadata": {},
   "outputs": [],
   "source": [
    "a = fe_neighbor_data.data_frame \\\n",
    "    .merge(fe_neighbor_data.data_frame.rename(columns={\"j\": \"i\", \"i\": \"j\"}), how=\"outer\") \\\n",
    "    .sort_values([\"i\",\"distance_bin\", \"j\"]) \\\n",
    "    .loc[:, [\"i\", \"j\", \"distance_bin\"]] \\\n",
    "    .reset_index(drop=True)\n",
    "\n",
    "neighbors_per_site = a.groupby([\"i\"]).count().reset_index().rename(columns={\"j\": \"count\"}).loc[:, \"count\"].values\n",
    "sites_per_distance_group = a.groupby([\"i\", \"distance_bin\"]).count().reset_index().rename(columns={\"j\": \"count\"}).loc[:, \"count\"].values\n",
    "neighbor_indices = a[\"j\"].values"
   ]
  },
  {
   "cell_type": "markdown",
   "metadata": {},
   "source": [
    "Here's what the sorted and filled in table looks like:"
   ]
  },
  {
   "cell_type": "code",
   "execution_count": 9,
   "metadata": {},
   "outputs": [
    {
     "data": {
      "text/html": [
       "<div>\n",
       "<style scoped>\n",
       "    .dataframe tbody tr th:only-of-type {\n",
       "        vertical-align: middle;\n",
       "    }\n",
       "\n",
       "    .dataframe tbody tr th {\n",
       "        vertical-align: top;\n",
       "    }\n",
       "\n",
       "    .dataframe thead th {\n",
       "        text-align: right;\n",
       "    }\n",
       "</style>\n",
       "<table border=\"0\" class=\"dataframe\">\n",
       "  <thead>\n",
       "    <tr style=\"text-align: left;\">\n",
       "      <th></th>\n",
       "      <th>i</th>\n",
       "      <th>j</th>\n",
       "      <th>distance_bin</th>\n",
       "    </tr>\n",
       "  </thead>\n",
       "  <tbody>\n",
       "    <tr>\n",
       "      <th>0</th>\n",
       "      <td>0</td>\n",
       "      <td>2</td>\n",
       "      <td>(1.2412309099740464, 2.6744809099740463]</td>\n",
       "    </tr>\n",
       "    <tr>\n",
       "      <th>1</th>\n",
       "      <td>0</td>\n",
       "      <td>3</td>\n",
       "      <td>(1.2412309099740464, 2.6744809099740463]</td>\n",
       "    </tr>\n",
       "    <tr>\n",
       "      <th>2</th>\n",
       "      <td>0</td>\n",
       "      <td>0</td>\n",
       "      <td>(2.6744809099740463, 3.0585190900259525]</td>\n",
       "    </tr>\n",
       "    <tr>\n",
       "      <th>3</th>\n",
       "      <td>0</td>\n",
       "      <td>1</td>\n",
       "      <td>(2.6744809099740463, 3.0585190900259525]</td>\n",
       "    </tr>\n",
       "    <tr>\n",
       "      <th>4</th>\n",
       "      <td>1</td>\n",
       "      <td>2</td>\n",
       "      <td>(1.2412309099740464, 2.6744809099740463]</td>\n",
       "    </tr>\n",
       "    <tr>\n",
       "      <th>5</th>\n",
       "      <td>1</td>\n",
       "      <td>3</td>\n",
       "      <td>(1.2412309099740464, 2.6744809099740463]</td>\n",
       "    </tr>\n",
       "    <tr>\n",
       "      <th>6</th>\n",
       "      <td>1</td>\n",
       "      <td>0</td>\n",
       "      <td>(2.6744809099740463, 3.0585190900259525]</td>\n",
       "    </tr>\n",
       "    <tr>\n",
       "      <th>7</th>\n",
       "      <td>1</td>\n",
       "      <td>1</td>\n",
       "      <td>(2.6744809099740463, 3.0585190900259525]</td>\n",
       "    </tr>\n",
       "    <tr>\n",
       "      <th>8</th>\n",
       "      <td>2</td>\n",
       "      <td>0</td>\n",
       "      <td>(1.2412309099740464, 2.6744809099740463]</td>\n",
       "    </tr>\n",
       "    <tr>\n",
       "      <th>9</th>\n",
       "      <td>2</td>\n",
       "      <td>1</td>\n",
       "      <td>(1.2412309099740464, 2.6744809099740463]</td>\n",
       "    </tr>\n",
       "    <tr>\n",
       "      <th>10</th>\n",
       "      <td>2</td>\n",
       "      <td>2</td>\n",
       "      <td>(2.6744809099740463, 3.0585190900259525]</td>\n",
       "    </tr>\n",
       "    <tr>\n",
       "      <th>11</th>\n",
       "      <td>2</td>\n",
       "      <td>3</td>\n",
       "      <td>(2.6744809099740463, 3.0585190900259525]</td>\n",
       "    </tr>\n",
       "    <tr>\n",
       "      <th>12</th>\n",
       "      <td>3</td>\n",
       "      <td>0</td>\n",
       "      <td>(1.2412309099740464, 2.6744809099740463]</td>\n",
       "    </tr>\n",
       "    <tr>\n",
       "      <th>13</th>\n",
       "      <td>3</td>\n",
       "      <td>1</td>\n",
       "      <td>(1.2412309099740464, 2.6744809099740463]</td>\n",
       "    </tr>\n",
       "    <tr>\n",
       "      <th>14</th>\n",
       "      <td>3</td>\n",
       "      <td>2</td>\n",
       "      <td>(2.6744809099740463, 3.0585190900259525]</td>\n",
       "    </tr>\n",
       "    <tr>\n",
       "      <th>15</th>\n",
       "      <td>3</td>\n",
       "      <td>3</td>\n",
       "      <td>(2.6744809099740463, 3.0585190900259525]</td>\n",
       "    </tr>\n",
       "  </tbody>\n",
       "</table>\n",
       "</div>"
      ],
      "text/plain": [
       "    i  j distance_bin                             \n",
       "0   0  2  (1.2412309099740464, 2.6744809099740463]\n",
       "1   0  3  (1.2412309099740464, 2.6744809099740463]\n",
       "2   0  0  (2.6744809099740463, 3.0585190900259525]\n",
       "3   0  1  (2.6744809099740463, 3.0585190900259525]\n",
       "4   1  2  (1.2412309099740464, 2.6744809099740463]\n",
       "5   1  3  (1.2412309099740464, 2.6744809099740463]\n",
       "6   1  0  (2.6744809099740463, 3.0585190900259525]\n",
       "7   1  1  (2.6744809099740463, 3.0585190900259525]\n",
       "8   2  0  (1.2412309099740464, 2.6744809099740463]\n",
       "9   2  1  (1.2412309099740464, 2.6744809099740463]\n",
       "10  2  2  (2.6744809099740463, 3.0585190900259525]\n",
       "11  2  3  (2.6744809099740463, 3.0585190900259525]\n",
       "12  3  0  (1.2412309099740464, 2.6744809099740463]\n",
       "13  3  1  (1.2412309099740464, 2.6744809099740463]\n",
       "14  3  2  (2.6744809099740463, 3.0585190900259525]\n",
       "15  3  3  (2.6744809099740463, 3.0585190900259525]"
      ]
     },
     "execution_count": 9,
     "metadata": {},
     "output_type": "execute_result"
    }
   ],
   "source": [
    "a"
   ]
  },
  {
   "cell_type": "markdown",
   "metadata": {},
   "source": [
    "Here's the vectors you would want to have for use in the Monte Carlo simulation."
   ]
  },
  {
   "cell_type": "code",
   "execution_count": 10,
   "metadata": {},
   "outputs": [
    {
     "name": "stdout",
     "output_type": "stream",
     "text": [
      "Index j sorted over index i and distances = [2 3 0 1 2 3 0 1 0 1 2 3 0 1 2 3]\n",
      "Number of neighbors for each site = [4 4 4 4]\n",
      "Number of neighbors grouped over index i and distances = [2 2 2 2 2 2 2 2]\n"
     ]
    }
   ],
   "source": [
    "print(\"Index j sorted over index i and distances =\", neighbor_indices)\n",
    "print(\"Number of neighbors for each site =\", neighbors_per_site)\n",
    "print(\"Number of neighbors grouped over index i and distances =\", sites_per_distance_group)"
   ]
  },
  {
   "cell_type": "markdown",
   "metadata": {},
   "source": [
    "End of notes from meeting\n",
    "\n",
    "---"
   ]
  },
  {
   "cell_type": "code",
   "execution_count": 11,
   "metadata": {},
   "outputs": [
    {
     "data": {
      "text/plain": [
       "array([2.48246182, 2.8665    ])"
      ]
     },
     "execution_count": 11,
     "metadata": {},
     "output_type": "execute_result"
    }
   ],
   "source": [
    "x = (np.array(fe_neighbor_data[1]))\n",
    "nn_distances = (x[:,1]).astype(float)\n",
    "nn_distances"
   ]
  },
  {
   "cell_type": "code",
   "execution_count": null,
   "metadata": {},
   "outputs": [],
   "source": [
    "n_sites = int(np.size(fe_structure_4atom))\n",
    "first_nn_list = np.zeros(n_sites)\n",
    "first_nn_list = [ (fe_structure_4atom.get_neighbors(fe_structure_4atom[i], r=nn_distances[0])) \\\n",
    "           for i in range(n_sites) ]\n",
    "first_nn_list[6]"
   ]
  },
  {
   "cell_type": "code",
   "execution_count": null,
   "metadata": {},
   "outputs": [],
   "source": [
    "list_fe_structure_4atom = list(fe_structure_4atom)\n",
    "list_fe_structure_4atom[0]\n",
    "#first_nn_list[6][0]"
   ]
  },
  {
   "cell_type": "code",
   "execution_count": null,
   "metadata": {},
   "outputs": [],
   "source": [
    "type(list(fe_structure_4atom)), type(first_nn_list)"
   ]
  },
  {
   "cell_type": "code",
   "execution_count": null,
   "metadata": {},
   "outputs": [],
   "source": [
    "nn_site =np.array( [ [i for i, j in enumerate(list(fe_structure_4atom)) \\\n",
    "             if j == first_nn_list[n] ] for n in range(n_sites)  ] )"
   ]
  },
  {
   "cell_type": "code",
   "execution_count": null,
   "metadata": {},
   "outputs": [],
   "source": [
    "first_nn_list[6]"
   ]
  },
  {
   "cell_type": "code",
   "execution_count": null,
   "metadata": {},
   "outputs": [],
   "source": []
  },
  {
   "cell_type": "code",
   "execution_count": null,
   "metadata": {},
   "outputs": [],
   "source": []
  }
 ],
 "metadata": {
  "kernelspec": {
   "display_name": "Python 3",
   "language": "python",
   "name": "python3"
  },
  "language_info": {
   "codemirror_mode": {
    "name": "ipython",
    "version": 3
   },
   "file_extension": ".py",
   "mimetype": "text/x-python",
   "name": "python",
   "nbconvert_exporter": "python",
   "pygments_lexer": "ipython3",
   "version": "3.7.0"
  }
 },
 "nbformat": 4,
 "nbformat_minor": 2
}
