{
 "cells": [
  {
   "cell_type": "code",
   "execution_count": 1,
   "metadata": {},
   "outputs": [],
   "source": [
    "from pathlib import Path\n",
    "from sys import stdout\n",
    "import numpy as np\n",
    "import pandas as pd\n",
    "import statsmodels.formula.api as smf\n",
    "import sympy\n",
    "from scipy.constants import Boltzmann, electron_volt\n",
    "from sympy import symbols\n",
    "from sympy.vector import CoordSys3D\n",
    "from pymatgen import units\n",
    "from pymatgen.transformations.standard_transformations import SupercellTransformation\n",
    "from ruamel.yaml import YAML\n",
    "from sklearn.linear_model import LinearRegression"
   ]
  },
  {
   "cell_type": "code",
   "execution_count": 2,
   "metadata": {},
   "outputs": [],
   "source": [
    "from neighbormodels.structure import from_file\n",
    "from neighbormodels.neighbors import count_neighbors\n",
    "from neighbormodels.interactions import build_model"
   ]
  },
  {
   "cell_type": "code",
   "execution_count": 3,
   "metadata": {},
   "outputs": [],
   "source": [
    "pd.set_option(\"display.colheader_justify\", \"left\")\n",
    "pd.set_option(\"display.html.border\", 0)\n",
    "html_table_style = {\"selector\": \"th\", \"props\": [(\"text-align\", \"left\")]}\n",
    "yaml = YAML()\n",
    "\n",
    "kB = 1000 * Boltzmann / electron_volt"
   ]
  },
  {
   "cell_type": "code",
   "execution_count": 18,
   "metadata": {},
   "outputs": [
    {
     "name": "stdout",
     "output_type": "stream",
     "text": [
      "Full Formula (Fe4)\n",
      "Reduced Formula: Fe\n",
      "abc   :   4.053843   4.053843   2.866500\n",
      "angles:  90.000000  90.000000  90.000000\n",
      "Sites (4)\n",
      "  #  SP      a    b     c\n",
      "---  ----  ---  ---  ----\n",
      "  0  Fe    0    0     0\n",
      "  1  Fe    0.5  0.5  -0\n",
      "  2  Fe    0.5  0     0.5\n",
      "  3  Fe    1    0.5   0.5\n"
     ]
    }
   ],
   "source": [
    "fe_cif_filepath = \"data/fe.cif\"\n",
    "fe_structure_2atom = from_file(structure_file=fe_cif_filepath)\n",
    "rotate_cell_45_degrees = SupercellTransformation(\n",
    "    scaling_matrix=[[1, 1, 0],\n",
    "                    [1, -1, 0],\n",
    "                    [0, 0, 1]],\n",
    ")\n",
    "fe_structure_4atom = rotate_cell_45_degrees.apply_transformation(fe_structure_2atom)\n",
    "print(fe_structure_4atom)"
   ]
  },
  {
   "cell_type": "code",
   "execution_count": 5,
   "metadata": {},
   "outputs": [
    {
     "data": {
      "text/html": [
       "<style  type=\"text/css\" >\n",
       "    #T_184be5d6_b5cc_11e8_9d7b_fba2d0b4ef55  {\n",
       "    }    #T_184be5d6_b5cc_11e8_9d7b_fba2d0b4ef55  {\n",
       "    }</style>  \n",
       "<table id=\"T_184be5d6_b5cc_11e8_9d7b_fba2d0b4ef55\" > \n",
       "<thead>    <tr> \n",
       "        <th class=\"col_heading level0 col0\" >nm</th> \n",
       "        <th class=\"col_heading level0 col1\" >f-type</th> \n",
       "        <th class=\"col_heading level0 col2\" >a-type</th> \n",
       "        <th class=\"col_heading level0 col3\" >g-type</th> \n",
       "    </tr></thead> \n",
       "<tbody>    <tr> \n",
       "        <td id=\"T_184be5d6_b5cc_11e8_9d7b_fba2d0b4ef55row0_col0\" class=\"data row0 col0\" >0</td> \n",
       "        <td id=\"T_184be5d6_b5cc_11e8_9d7b_fba2d0b4ef55row0_col1\" class=\"data row0 col1\" >1</td> \n",
       "        <td id=\"T_184be5d6_b5cc_11e8_9d7b_fba2d0b4ef55row0_col2\" class=\"data row0 col2\" >1</td> \n",
       "        <td id=\"T_184be5d6_b5cc_11e8_9d7b_fba2d0b4ef55row0_col3\" class=\"data row0 col3\" >1</td> \n",
       "    </tr>    <tr> \n",
       "        <td id=\"T_184be5d6_b5cc_11e8_9d7b_fba2d0b4ef55row1_col0\" class=\"data row1 col0\" >0</td> \n",
       "        <td id=\"T_184be5d6_b5cc_11e8_9d7b_fba2d0b4ef55row1_col1\" class=\"data row1 col1\" >1</td> \n",
       "        <td id=\"T_184be5d6_b5cc_11e8_9d7b_fba2d0b4ef55row1_col2\" class=\"data row1 col2\" >1</td> \n",
       "        <td id=\"T_184be5d6_b5cc_11e8_9d7b_fba2d0b4ef55row1_col3\" class=\"data row1 col3\" >-1</td> \n",
       "    </tr>    <tr> \n",
       "        <td id=\"T_184be5d6_b5cc_11e8_9d7b_fba2d0b4ef55row2_col0\" class=\"data row2 col0\" >0</td> \n",
       "        <td id=\"T_184be5d6_b5cc_11e8_9d7b_fba2d0b4ef55row2_col1\" class=\"data row2 col1\" >1</td> \n",
       "        <td id=\"T_184be5d6_b5cc_11e8_9d7b_fba2d0b4ef55row2_col2\" class=\"data row2 col2\" >-1</td> \n",
       "        <td id=\"T_184be5d6_b5cc_11e8_9d7b_fba2d0b4ef55row2_col3\" class=\"data row2 col3\" >1</td> \n",
       "    </tr>    <tr> \n",
       "        <td id=\"T_184be5d6_b5cc_11e8_9d7b_fba2d0b4ef55row3_col0\" class=\"data row3 col0\" >0</td> \n",
       "        <td id=\"T_184be5d6_b5cc_11e8_9d7b_fba2d0b4ef55row3_col1\" class=\"data row3 col1\" >1</td> \n",
       "        <td id=\"T_184be5d6_b5cc_11e8_9d7b_fba2d0b4ef55row3_col2\" class=\"data row3 col2\" >-1</td> \n",
       "        <td id=\"T_184be5d6_b5cc_11e8_9d7b_fba2d0b4ef55row3_col3\" class=\"data row3 col3\" >-1</td> \n",
       "    </tr></tbody> \n",
       "</table> "
      ],
      "text/plain": [
       "<pandas.io.formats.style.Styler at 0x7fdc731b5748>"
      ]
     },
     "execution_count": 5,
     "metadata": {},
     "output_type": "execute_result"
    }
   ],
   "source": [
    "fe_magnetic_patterns = yaml.load(Path(\"data/fe_magnetic_patterns.yml\"))\n",
    "pd.DataFrame(fe_magnetic_patterns[\"4atoms\"]).style \\\n",
    "    .set_table_styles(html_table_style) \\\n",
    "    .hide_index()"
   ]
  },
  {
   "cell_type": "code",
   "execution_count": 6,
   "metadata": {},
   "outputs": [],
   "source": [
    "fe_neighbor_data = count_neighbors(cell_structure=fe_structure_4atom, r=3)"
   ]
  },
  {
   "cell_type": "code",
   "execution_count": 8,
   "metadata": {},
   "outputs": [
    {
     "data": {
      "text/plain": [
       "NeighborData(data_frame=   i  j subspecies_i subspecies_j distance_bin                               n\n",
       "0  0  0  Fe           Fe           (2.6744809099740463, 3.0585190900259525]  2\n",
       "1  0  1  Fe           Fe           (2.6744809099740463, 3.0585190900259525]  8\n",
       "2  0  2  Fe           Fe           (1.2412309099740464, 2.6744809099740463]  8\n",
       "3  0  3  Fe           Fe           (1.2412309099740464, 2.6744809099740463]  8\n",
       "4  1  1  Fe           Fe           (2.6744809099740463, 3.0585190900259525]  2\n",
       "5  1  2  Fe           Fe           (1.2412309099740464, 2.6744809099740463]  8\n",
       "6  1  3  Fe           Fe           (1.2412309099740464, 2.6744809099740463]  8\n",
       "7  2  2  Fe           Fe           (2.6744809099740463, 3.0585190900259525]  2\n",
       "8  2  3  Fe           Fe           (2.6744809099740463, 3.0585190900259525]  8\n",
       "9  3  3  Fe           Fe           (2.6744809099740463, 3.0585190900259525]  2, bins_data_frame=                                         distance_bin                               \\\n",
       "(1.2412309099740464, 2.6744809099740463]  (1.2412309099740464, 2.6744809099740463]   \n",
       "(2.6744809099740463, 3.0585190900259525]  (2.6744809099740463, 3.0585190900259525]   \n",
       "\n",
       "                                         distance_ij  \n",
       "(1.2412309099740464, 2.6744809099740463]  2.482462    \n",
       "(2.6744809099740463, 3.0585190900259525]  2.866500    , structure=Structure Summary\n",
       "Lattice\n",
       "    abc : 4.053843176542477 4.053843176542476 2.8665\n",
       " angles : 90.0 90.0 90.0\n",
       " volume : 47.10704195925\n",
       "      A : 2.8665000000000003 2.8665 3.5104500497558877e-16\n",
       "      B : 2.8664999999999994 -2.8665 0.0\n",
       "      C : 0.0 0.0 2.8665\n",
       "PeriodicSite: Fe (0.0000, 0.0000, 0.0000) [0.0000, 0.0000, 0.0000]\n",
       "PeriodicSite: Fe (2.8665, -0.0000, 0.0000) [0.5000, 0.5000, -0.0000]\n",
       "PeriodicSite: Fe (1.4333, 1.4332, 1.4333) [0.5000, 0.0000, 0.5000]\n",
       "PeriodicSite: Fe (4.2997, 1.4332, 1.4333) [1.0000, 0.5000, 0.5000])"
      ]
     },
     "execution_count": 8,
     "metadata": {},
     "output_type": "execute_result"
    }
   ],
   "source": [
    "fe_neighbor_data"
   ]
  },
  {
   "cell_type": "code",
   "execution_count": 138,
   "metadata": {},
   "outputs": [
    {
     "data": {
      "text/plain": [
       "array([2.48246182, 2.8665    ])"
      ]
     },
     "execution_count": 138,
     "metadata": {},
     "output_type": "execute_result"
    }
   ],
   "source": [
    "x = (np.array(fe_neighbor_data[1]))\n",
    "nn_distances = (x[:,1]).astype(float)\n",
    "nn_distances"
   ]
  },
  {
   "cell_type": "code",
   "execution_count": 224,
   "metadata": {},
   "outputs": [
    {
     "data": {
      "text/plain": [
       "[(PeriodicSite: Fe (10.0328, -1.4333, 12.8992) [0.3750, 0.5000, 1.1250],\n",
       "  2.4824618199480915),\n",
       " (PeriodicSite: Fe (10.0328, -1.4333, 10.0328) [0.3750, 0.5000, 0.8750],\n",
       "  2.4824618199480915),\n",
       " (PeriodicSite: Fe (10.0328, 1.4332, 12.8992) [0.5000, 0.3750, 1.1250],\n",
       "  2.4824618199480915),\n",
       " (PeriodicSite: Fe (10.0328, 1.4332, 10.0328) [0.5000, 0.3750, 0.8750],\n",
       "  2.4824618199480906)]"
      ]
     },
     "execution_count": 224,
     "metadata": {},
     "output_type": "execute_result"
    }
   ],
   "source": [
    "n_sites = int(np.size(fe_structure_4atom))\n",
    "first_nn_list = np.zeros(n_sites)\n",
    "first_nn_list = [ (fe_structure_4atom.get_neighbors(fe_structure_4atom[i], r=nn_distances[0])) \\\n",
    "           for i in range(n_sites) ]\n",
    "first_nn_list[6]"
   ]
  },
  {
   "cell_type": "code",
   "execution_count": 237,
   "metadata": {},
   "outputs": [
    {
     "data": {
      "text/plain": [
       "PeriodicSite: Fe (0.0000, 0.0000, 0.0000) [0.0000, 0.0000, 0.0000]"
      ]
     },
     "execution_count": 237,
     "metadata": {},
     "output_type": "execute_result"
    }
   ],
   "source": [
    "list_fe_structure_4atom = list(fe_structure_4atom)\n",
    "list_fe_structure_4atom[0]\n",
    "#first_nn_list[6][0]"
   ]
  },
  {
   "cell_type": "code",
   "execution_count": 215,
   "metadata": {},
   "outputs": [
    {
     "data": {
      "text/plain": [
       "(list, list)"
      ]
     },
     "execution_count": 215,
     "metadata": {},
     "output_type": "execute_result"
    }
   ],
   "source": [
    "type(list(fe_structure_4atom)), type(first_nn_list)"
   ]
  },
  {
   "cell_type": "code",
   "execution_count": 87,
   "metadata": {},
   "outputs": [],
   "source": [
    "nn_site =np.array( [ [i for i, j in enumerate(list(fe_structure_4atom)) \\\n",
    "             if j == first_nn_list[n] ] for n in range(n_sites)  ] )"
   ]
  },
  {
   "cell_type": "code",
   "execution_count": 252,
   "metadata": {},
   "outputs": [
    {
     "data": {
      "text/plain": [
       "[(PeriodicSite: Fe (10.0328, -1.4333, 12.8992) [0.3750, 0.5000, 1.1250],\n",
       "  2.4824618199480915),\n",
       " (PeriodicSite: Fe (10.0328, -1.4333, 10.0328) [0.3750, 0.5000, 0.8750],\n",
       "  2.4824618199480915),\n",
       " (PeriodicSite: Fe (10.0328, 1.4332, 12.8992) [0.5000, 0.3750, 1.1250],\n",
       "  2.4824618199480915),\n",
       " (PeriodicSite: Fe (10.0328, 1.4332, 10.0328) [0.5000, 0.3750, 0.8750],\n",
       "  2.4824618199480906)]"
      ]
     },
     "execution_count": 252,
     "metadata": {},
     "output_type": "execute_result"
    }
   ],
   "source": [
    "first_nn_list[6]"
   ]
  },
  {
   "cell_type": "code",
   "execution_count": null,
   "metadata": {},
   "outputs": [],
   "source": []
  },
  {
   "cell_type": "code",
   "execution_count": null,
   "metadata": {},
   "outputs": [],
   "source": []
  }
 ],
 "metadata": {
  "kernelspec": {
   "display_name": "Python 3",
   "language": "python",
   "name": "python3"
  },
  "language_info": {
   "codemirror_mode": {
    "name": "ipython",
    "version": 3
   },
   "file_extension": ".py",
   "mimetype": "text/x-python",
   "name": "python",
   "nbconvert_exporter": "python",
   "pygments_lexer": "ipython3",
   "version": "3.7.0"
  }
 },
 "nbformat": 4,
 "nbformat_minor": 2
}
